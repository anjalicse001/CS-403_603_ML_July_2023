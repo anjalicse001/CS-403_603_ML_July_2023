{
 "cells": [
  {
   "cell_type": "markdown",
   "metadata": {
    "papermill": {
     "duration": 0.025218,
     "end_time": "2021-02-23T18:26:38.300378",
     "exception": false,
     "start_time": "2021-02-23T18:26:38.275160",
     "status": "completed"
    },
    "tags": []
   },
   "source": [
    "# Credit Card Fraud Detection\n",
    "\n",
    "![credit card pic](https://www.xenonstack.com/wp-content/uploads/xenonstack-credit-card-fraud-detection.png)\n",
    "- Credit card companies are able to **recognize fraudulent** credit card transactions so that customers are **not charged** for items that they did **not purchase**.\n",
    "- Problem Type: **Classification**\n",
    "- Library Used: **TensorFlow, Sklearn, Keras**"
   ]
  },
  {
   "cell_type": "code",
   "execution_count": 4,
   "metadata": {
    "execution": {
     "iopub.execute_input": "2021-02-23T18:26:38.356180Z",
     "iopub.status.busy": "2021-02-23T18:26:38.355455Z",
     "iopub.status.idle": "2021-02-23T18:26:43.691820Z",
     "shell.execute_reply": "2021-02-23T18:26:43.690716Z"
    },
    "papermill": {
     "duration": 5.367472,
     "end_time": "2021-02-23T18:26:43.692029",
     "exception": false,
     "start_time": "2021-02-23T18:26:38.324557",
     "status": "completed"
    },
    "tags": []
   },
   "outputs": [
    {
     "name": "stdout",
     "output_type": "stream",
     "text": [
      "Collecting tensorflow\n",
      "  Downloading tensorflow-2.11.0-cp37-cp37m-win_amd64.whl (1.9 kB)\n",
      "Collecting tensorflow-intel==2.11.0; platform_system == \"Windows\"\n",
      "  Downloading tensorflow_intel-2.11.0-cp37-cp37m-win_amd64.whl (266.3 MB)\n",
      "Collecting astunparse>=1.6.0\n",
      "  Using cached astunparse-1.6.3-py2.py3-none-any.whl (12 kB)\n",
      "Collecting google-pasta>=0.1.1\n",
      "  Using cached google_pasta-0.2.0-py3-none-any.whl (57 kB)\n",
      "Collecting protobuf<3.20,>=3.9.2\n",
      "  Downloading protobuf-3.19.6-cp37-cp37m-win_amd64.whl (896 kB)\n",
      "Collecting opt-einsum>=2.3.2\n",
      "  Using cached opt_einsum-3.3.0-py3-none-any.whl (65 kB)\n",
      "Collecting gast<=0.4.0,>=0.2.1\n",
      "  Using cached gast-0.4.0-py3-none-any.whl (9.8 kB)\n",
      "Collecting keras<2.12,>=2.11.0\n",
      "  Downloading keras-2.11.0-py2.py3-none-any.whl (1.7 MB)\n",
      "Collecting absl-py>=1.0.0\n",
      "  Downloading absl_py-2.0.0-py3-none-any.whl (130 kB)\n",
      "Requirement already satisfied: six>=1.12.0 in c:\\users\\hp\\anaconda3\\lib\\site-packages (from tensorflow-intel==2.11.0; platform_system == \"Windows\"->tensorflow) (1.14.0)\n",
      "Collecting grpcio<2.0,>=1.24.3\n",
      "  Downloading grpcio-1.59.2-cp37-cp37m-win_amd64.whl (4.3 MB)\n",
      "Requirement already satisfied: h5py>=2.9.0 in c:\\users\\hp\\anaconda3\\lib\\site-packages (from tensorflow-intel==2.11.0; platform_system == \"Windows\"->tensorflow) (2.10.0)\n",
      "Requirement already satisfied: packaging in c:\\users\\hp\\anaconda3\\lib\\site-packages (from tensorflow-intel==2.11.0; platform_system == \"Windows\"->tensorflow) (20.1)\n",
      "Requirement already satisfied: setuptools in c:\\users\\hp\\anaconda3\\lib\\site-packages (from tensorflow-intel==2.11.0; platform_system == \"Windows\"->tensorflow) (45.2.0.post20200210)\n",
      "Collecting typing-extensions>=3.6.6\n",
      "  Using cached typing_extensions-4.7.1-py3-none-any.whl (33 kB)\n",
      "Collecting tensorboard<2.12,>=2.11\n",
      "  Downloading tensorboard-2.11.2-py3-none-any.whl (6.0 MB)\n",
      "Collecting libclang>=13.0.0\n",
      "  Downloading libclang-16.0.6-py2.py3-none-win_amd64.whl (24.4 MB)\n",
      "Collecting termcolor>=1.1.0\n",
      "  Using cached termcolor-2.3.0-py3-none-any.whl (6.9 kB)\n",
      "Collecting flatbuffers>=2.0\n",
      "  Downloading flatbuffers-23.5.26-py2.py3-none-any.whl (26 kB)\n",
      "Collecting tensorflow-io-gcs-filesystem>=0.23.1; platform_machine != \"arm64\" or platform_system != \"Darwin\"\n",
      "  Downloading tensorflow_io_gcs_filesystem-0.31.0-cp37-cp37m-win_amd64.whl (1.5 MB)\n",
      "Requirement already satisfied: wrapt>=1.11.0 in c:\\users\\hp\\anaconda3\\lib\\site-packages (from tensorflow-intel==2.11.0; platform_system == \"Windows\"->tensorflow) (1.11.2)\n",
      "Collecting tensorflow-estimator<2.12,>=2.11.0\n",
      "  Downloading tensorflow_estimator-2.11.0-py2.py3-none-any.whl (439 kB)\n",
      "Collecting numpy>=1.20\n",
      "  Downloading numpy-1.21.6-cp37-cp37m-win_amd64.whl (14.0 MB)\n",
      "Requirement already satisfied: wheel<1.0,>=0.23.0 in c:\\users\\hp\\anaconda3\\lib\\site-packages (from astunparse>=1.6.0->tensorflow-intel==2.11.0; platform_system == \"Windows\"->tensorflow) (0.34.2)\n",
      "Requirement already satisfied: pyparsing>=2.0.2 in c:\\users\\hp\\anaconda3\\lib\\site-packages (from packaging->tensorflow-intel==2.11.0; platform_system == \"Windows\"->tensorflow) (2.4.6)\n",
      "Collecting werkzeug>=1.0.1\n",
      "  Downloading Werkzeug-2.2.3-py3-none-any.whl (233 kB)\n",
      "Collecting google-auth<3,>=1.6.3\n",
      "  Downloading google_auth-2.23.4-py2.py3-none-any.whl (183 kB)\n",
      "Collecting google-auth-oauthlib<0.5,>=0.4.1\n",
      "  Downloading google_auth_oauthlib-0.4.6-py2.py3-none-any.whl (18 kB)\n",
      "Collecting tensorboard-plugin-wit>=1.6.0\n",
      "  Downloading tensorboard_plugin_wit-1.8.1-py3-none-any.whl (781 kB)\n",
      "Collecting tensorboard-data-server<0.7.0,>=0.6.0\n",
      "  Downloading tensorboard_data_server-0.6.1-py3-none-any.whl (2.4 kB)\n",
      "Requirement already satisfied: requests<3,>=2.21.0 in c:\\users\\hp\\anaconda3\\lib\\site-packages (from tensorboard<2.12,>=2.11->tensorflow-intel==2.11.0; platform_system == \"Windows\"->tensorflow) (2.22.0)\n",
      "Collecting markdown>=2.6.8\n",
      "  Downloading Markdown-3.4.4-py3-none-any.whl (94 kB)\n",
      "Collecting MarkupSafe>=2.1.1\n",
      "  Downloading MarkupSafe-2.1.3-cp37-cp37m-win_amd64.whl (17 kB)\n",
      "Collecting rsa<5,>=3.1.4\n",
      "  Using cached rsa-4.9-py3-none-any.whl (34 kB)\n",
      "Collecting pyasn1-modules>=0.2.1\n",
      "  Using cached pyasn1_modules-0.3.0-py2.py3-none-any.whl (181 kB)\n",
      "Collecting cachetools<6.0,>=2.0.0\n",
      "  Downloading cachetools-5.3.2-py3-none-any.whl (9.3 kB)\n",
      "Collecting requests-oauthlib>=0.7.0\n",
      "  Using cached requests_oauthlib-1.3.1-py2.py3-none-any.whl (23 kB)\n",
      "Requirement already satisfied: idna<2.9,>=2.5 in c:\\users\\hp\\anaconda3\\lib\\site-packages (from requests<3,>=2.21.0->tensorboard<2.12,>=2.11->tensorflow-intel==2.11.0; platform_system == \"Windows\"->tensorflow) (2.8)\n",
      "Requirement already satisfied: certifi>=2017.4.17 in c:\\users\\hp\\anaconda3\\lib\\site-packages (from requests<3,>=2.21.0->tensorboard<2.12,>=2.11->tensorflow-intel==2.11.0; platform_system == \"Windows\"->tensorflow) (2019.11.28)\n",
      "Requirement already satisfied: urllib3!=1.25.0,!=1.25.1,<1.26,>=1.21.1 in c:\\users\\hp\\anaconda3\\lib\\site-packages (from requests<3,>=2.21.0->tensorboard<2.12,>=2.11->tensorflow-intel==2.11.0; platform_system == \"Windows\"->tensorflow) (1.25.8)\n",
      "Requirement already satisfied: chardet<3.1.0,>=3.0.2 in c:\\users\\hp\\anaconda3\\lib\\site-packages (from requests<3,>=2.21.0->tensorboard<2.12,>=2.11->tensorflow-intel==2.11.0; platform_system == \"Windows\"->tensorflow) (3.0.4)\n",
      "Collecting importlib-metadata>=4.4; python_version < \"3.10\"\n",
      "  Downloading importlib_metadata-6.7.0-py3-none-any.whl (22 kB)\n",
      "Collecting pyasn1>=0.1.3\n",
      "  Using cached pyasn1-0.5.0-py2.py3-none-any.whl (83 kB)\n",
      "Collecting oauthlib>=3.0.0\n",
      "  Using cached oauthlib-3.2.2-py3-none-any.whl (151 kB)\n",
      "Requirement already satisfied: zipp>=0.5 in c:\\users\\hp\\anaconda3\\lib\\site-packages (from importlib-metadata>=4.4; python_version < \"3.10\"->markdown>=2.6.8->tensorboard<2.12,>=2.11->tensorflow-intel==2.11.0; platform_system == \"Windows\"->tensorflow) (2.2.0)\n",
      "Installing collected packages: astunparse, google-pasta, protobuf, numpy, opt-einsum, gast, keras, absl-py, grpcio, typing-extensions, MarkupSafe, werkzeug, pyasn1, rsa, pyasn1-modules, cachetools, google-auth, oauthlib, requests-oauthlib, google-auth-oauthlib, tensorboard-plugin-wit, tensorboard-data-server, importlib-metadata, markdown, tensorboard, libclang, termcolor, flatbuffers, tensorflow-io-gcs-filesystem, tensorflow-estimator, tensorflow-intel, tensorflow\n",
      "  Attempting uninstall: numpy\n",
      "    Found existing installation: numpy 1.18.1\n",
      "    Uninstalling numpy-1.18.1:\n",
      "      Successfully uninstalled numpy-1.18.1\n",
      "  Attempting uninstall: MarkupSafe\n",
      "    Found existing installation: MarkupSafe 1.1.1\n",
      "    Uninstalling MarkupSafe-1.1.1:\n",
      "      Successfully uninstalled MarkupSafe-1.1.1\n",
      "  Attempting uninstall: werkzeug\n",
      "    Found existing installation: Werkzeug 1.0.0\n",
      "    Uninstalling Werkzeug-1.0.0:\n",
      "      Successfully uninstalled Werkzeug-1.0.0\n",
      "  Attempting uninstall: importlib-metadata\n",
      "    Found existing installation: importlib-metadata 1.5.0\n",
      "    Uninstalling importlib-metadata-1.5.0:\n",
      "      Successfully uninstalled importlib-metadata-1.5.0\n",
      "Successfully installed MarkupSafe-2.1.3 absl-py-2.0.0 astunparse-1.6.3 cachetools-5.3.2 flatbuffers-23.5.26 gast-0.4.0 google-auth-2.23.4 google-auth-oauthlib-0.4.6 google-pasta-0.2.0 grpcio-1.59.2 importlib-metadata-6.7.0 keras-2.11.0 libclang-16.0.6 markdown-3.4.4 numpy-1.21.6 oauthlib-3.2.2 opt-einsum-3.3.0 protobuf-3.19.6 pyasn1-0.5.0 pyasn1-modules-0.3.0 requests-oauthlib-1.3.1 rsa-4.9 tensorboard-2.11.2 tensorboard-data-server-0.6.1 tensorboard-plugin-wit-1.8.1 tensorflow-2.11.0 tensorflow-estimator-2.11.0 tensorflow-intel-2.11.0 tensorflow-io-gcs-filesystem-0.31.0 termcolor-2.3.0 typing-extensions-4.7.1 werkzeug-2.2.3\n"
     ]
    },
    {
     "name": "stderr",
     "output_type": "stream",
     "text": [
      "ERROR: pytest-astropy 0.8.0 requires pytest-cov>=2.0, which is not installed.\n",
      "ERROR: pytest-astropy 0.8.0 requires pytest-filter-subpackage>=0.1, which is not installed.\n"
     ]
    },
    {
     "name": "stdout",
     "output_type": "stream",
     "text": [
      "2.11.0\n"
     ]
    }
   ],
   "source": [
    "\n",
    "\n",
    "# Tensforflow libraries\n",
    "import tensorflow as tf\n",
    "from tensorflow import keras\n",
    "from keras import Sequential\n",
    "from tensorflow.keras.optimizers import Adam\n",
    "from keras.layers import Flatten, Dense, Dropout, BatchNormalization\n",
    "from keras.layers import Conv1D, MaxPool1D\n",
    "\n",
    "# Data processing Libraries\n",
    "import pandas as pd\n",
    "import numpy as np\n",
    "import seaborn as sns\n",
    "import matplotlib.pyplot as plt \n",
    "from sklearn.model_selection import train_test_split\n",
    "from sklearn.preprocessing import StandardScaler\n",
    "from sklearn.metrics import confusion_matrix\n",
    "\n",
    "print(tf.__version__)"
   ]
  },
  {
   "cell_type": "markdown",
   "metadata": {
    "papermill": {
     "duration": 0.024081,
     "end_time": "2021-02-23T18:26:43.740704",
     "exception": false,
     "start_time": "2021-02-23T18:26:43.716623",
     "status": "completed"
    },
    "tags": []
   },
   "source": [
    "## Importing Data from CSV"
   ]
  },
  {
   "cell_type": "code",
   "execution_count": 6,
   "metadata": {
    "execution": {
     "iopub.execute_input": "2021-02-23T18:26:43.798668Z",
     "iopub.status.busy": "2021-02-23T18:26:43.798010Z",
     "iopub.status.idle": "2021-02-23T18:26:47.579097Z",
     "shell.execute_reply": "2021-02-23T18:26:47.578529Z"
    },
    "papermill": {
     "duration": 3.81474,
     "end_time": "2021-02-23T18:26:47.579249",
     "exception": false,
     "start_time": "2021-02-23T18:26:43.764509",
     "status": "completed"
    },
    "tags": []
   },
   "outputs": [],
   "source": [
    "data = pd.read_csv(\"creditcard.csv\")"
   ]
  },
  {
   "cell_type": "markdown",
   "metadata": {
    "papermill": {
     "duration": 0.032247,
     "end_time": "2021-02-23T18:26:47.646762",
     "exception": false,
     "start_time": "2021-02-23T18:26:47.614515",
     "status": "completed"
    },
    "tags": []
   },
   "source": [
    "## Exploring the Dataset\n",
    "* This dataset presents transactions that occurred in two days, where we have 492 frauds out of 284,807 transactions\n",
    "* features V1 - V28 are a result of the PCA transformation and are simply numerical representations.\n",
    "* Amount is the value in dollars of the transaction\n",
    "* Time variable is the amount of time that passed from the time when the first transaction took place.\n",
    "* Fraud = 1 , Not Fraud = 0"
   ]
  },
  {
   "cell_type": "code",
   "execution_count": 7,
   "metadata": {
    "_cell_guid": "b1076dfc-b9ad-4769-8c92-a6c4dae69d19",
    "_uuid": "8f2839f25d086af736a60e9eeb907d3b93b6e0e5",
    "execution": {
     "iopub.execute_input": "2021-02-23T18:26:47.724849Z",
     "iopub.status.busy": "2021-02-23T18:26:47.724192Z",
     "iopub.status.idle": "2021-02-23T18:26:47.763137Z",
     "shell.execute_reply": "2021-02-23T18:26:47.764203Z"
    },
    "papermill": {
     "duration": 0.084106,
     "end_time": "2021-02-23T18:26:47.764398",
     "exception": false,
     "start_time": "2021-02-23T18:26:47.680292",
     "status": "completed"
    },
    "tags": []
   },
   "outputs": [
    {
     "data": {
      "text/html": [
       "<div>\n",
       "<style scoped>\n",
       "    .dataframe tbody tr th:only-of-type {\n",
       "        vertical-align: middle;\n",
       "    }\n",
       "\n",
       "    .dataframe tbody tr th {\n",
       "        vertical-align: top;\n",
       "    }\n",
       "\n",
       "    .dataframe thead th {\n",
       "        text-align: right;\n",
       "    }\n",
       "</style>\n",
       "<table border=\"1\" class=\"dataframe\">\n",
       "  <thead>\n",
       "    <tr style=\"text-align: right;\">\n",
       "      <th></th>\n",
       "      <th>Time</th>\n",
       "      <th>V1</th>\n",
       "      <th>V2</th>\n",
       "      <th>V3</th>\n",
       "      <th>V4</th>\n",
       "      <th>V5</th>\n",
       "      <th>V6</th>\n",
       "      <th>V7</th>\n",
       "      <th>V8</th>\n",
       "      <th>V9</th>\n",
       "      <th>...</th>\n",
       "      <th>V21</th>\n",
       "      <th>V22</th>\n",
       "      <th>V23</th>\n",
       "      <th>V24</th>\n",
       "      <th>V25</th>\n",
       "      <th>V26</th>\n",
       "      <th>V27</th>\n",
       "      <th>V28</th>\n",
       "      <th>Amount</th>\n",
       "      <th>Class</th>\n",
       "    </tr>\n",
       "  </thead>\n",
       "  <tbody>\n",
       "    <tr>\n",
       "      <th>0</th>\n",
       "      <td>0.0</td>\n",
       "      <td>-1.359807</td>\n",
       "      <td>-0.072781</td>\n",
       "      <td>2.536347</td>\n",
       "      <td>1.378155</td>\n",
       "      <td>-0.338321</td>\n",
       "      <td>0.462388</td>\n",
       "      <td>0.239599</td>\n",
       "      <td>0.098698</td>\n",
       "      <td>0.363787</td>\n",
       "      <td>...</td>\n",
       "      <td>-0.018307</td>\n",
       "      <td>0.277838</td>\n",
       "      <td>-0.110474</td>\n",
       "      <td>0.066928</td>\n",
       "      <td>0.128539</td>\n",
       "      <td>-0.189115</td>\n",
       "      <td>0.133558</td>\n",
       "      <td>-0.021053</td>\n",
       "      <td>149.62</td>\n",
       "      <td>0</td>\n",
       "    </tr>\n",
       "    <tr>\n",
       "      <th>1</th>\n",
       "      <td>0.0</td>\n",
       "      <td>1.191857</td>\n",
       "      <td>0.266151</td>\n",
       "      <td>0.166480</td>\n",
       "      <td>0.448154</td>\n",
       "      <td>0.060018</td>\n",
       "      <td>-0.082361</td>\n",
       "      <td>-0.078803</td>\n",
       "      <td>0.085102</td>\n",
       "      <td>-0.255425</td>\n",
       "      <td>...</td>\n",
       "      <td>-0.225775</td>\n",
       "      <td>-0.638672</td>\n",
       "      <td>0.101288</td>\n",
       "      <td>-0.339846</td>\n",
       "      <td>0.167170</td>\n",
       "      <td>0.125895</td>\n",
       "      <td>-0.008983</td>\n",
       "      <td>0.014724</td>\n",
       "      <td>2.69</td>\n",
       "      <td>0</td>\n",
       "    </tr>\n",
       "    <tr>\n",
       "      <th>2</th>\n",
       "      <td>1.0</td>\n",
       "      <td>-1.358354</td>\n",
       "      <td>-1.340163</td>\n",
       "      <td>1.773209</td>\n",
       "      <td>0.379780</td>\n",
       "      <td>-0.503198</td>\n",
       "      <td>1.800499</td>\n",
       "      <td>0.791461</td>\n",
       "      <td>0.247676</td>\n",
       "      <td>-1.514654</td>\n",
       "      <td>...</td>\n",
       "      <td>0.247998</td>\n",
       "      <td>0.771679</td>\n",
       "      <td>0.909412</td>\n",
       "      <td>-0.689281</td>\n",
       "      <td>-0.327642</td>\n",
       "      <td>-0.139097</td>\n",
       "      <td>-0.055353</td>\n",
       "      <td>-0.059752</td>\n",
       "      <td>378.66</td>\n",
       "      <td>0</td>\n",
       "    </tr>\n",
       "    <tr>\n",
       "      <th>3</th>\n",
       "      <td>1.0</td>\n",
       "      <td>-0.966272</td>\n",
       "      <td>-0.185226</td>\n",
       "      <td>1.792993</td>\n",
       "      <td>-0.863291</td>\n",
       "      <td>-0.010309</td>\n",
       "      <td>1.247203</td>\n",
       "      <td>0.237609</td>\n",
       "      <td>0.377436</td>\n",
       "      <td>-1.387024</td>\n",
       "      <td>...</td>\n",
       "      <td>-0.108300</td>\n",
       "      <td>0.005274</td>\n",
       "      <td>-0.190321</td>\n",
       "      <td>-1.175575</td>\n",
       "      <td>0.647376</td>\n",
       "      <td>-0.221929</td>\n",
       "      <td>0.062723</td>\n",
       "      <td>0.061458</td>\n",
       "      <td>123.50</td>\n",
       "      <td>0</td>\n",
       "    </tr>\n",
       "    <tr>\n",
       "      <th>4</th>\n",
       "      <td>2.0</td>\n",
       "      <td>-1.158233</td>\n",
       "      <td>0.877737</td>\n",
       "      <td>1.548718</td>\n",
       "      <td>0.403034</td>\n",
       "      <td>-0.407193</td>\n",
       "      <td>0.095921</td>\n",
       "      <td>0.592941</td>\n",
       "      <td>-0.270533</td>\n",
       "      <td>0.817739</td>\n",
       "      <td>...</td>\n",
       "      <td>-0.009431</td>\n",
       "      <td>0.798278</td>\n",
       "      <td>-0.137458</td>\n",
       "      <td>0.141267</td>\n",
       "      <td>-0.206010</td>\n",
       "      <td>0.502292</td>\n",
       "      <td>0.219422</td>\n",
       "      <td>0.215153</td>\n",
       "      <td>69.99</td>\n",
       "      <td>0</td>\n",
       "    </tr>\n",
       "  </tbody>\n",
       "</table>\n",
       "<p>5 rows × 31 columns</p>\n",
       "</div>"
      ],
      "text/plain": [
       "   Time        V1        V2        V3        V4        V5        V6        V7  \\\n",
       "0   0.0 -1.359807 -0.072781  2.536347  1.378155 -0.338321  0.462388  0.239599   \n",
       "1   0.0  1.191857  0.266151  0.166480  0.448154  0.060018 -0.082361 -0.078803   \n",
       "2   1.0 -1.358354 -1.340163  1.773209  0.379780 -0.503198  1.800499  0.791461   \n",
       "3   1.0 -0.966272 -0.185226  1.792993 -0.863291 -0.010309  1.247203  0.237609   \n",
       "4   2.0 -1.158233  0.877737  1.548718  0.403034 -0.407193  0.095921  0.592941   \n",
       "\n",
       "         V8        V9  ...       V21       V22       V23       V24       V25  \\\n",
       "0  0.098698  0.363787  ... -0.018307  0.277838 -0.110474  0.066928  0.128539   \n",
       "1  0.085102 -0.255425  ... -0.225775 -0.638672  0.101288 -0.339846  0.167170   \n",
       "2  0.247676 -1.514654  ...  0.247998  0.771679  0.909412 -0.689281 -0.327642   \n",
       "3  0.377436 -1.387024  ... -0.108300  0.005274 -0.190321 -1.175575  0.647376   \n",
       "4 -0.270533  0.817739  ... -0.009431  0.798278 -0.137458  0.141267 -0.206010   \n",
       "\n",
       "        V26       V27       V28  Amount  Class  \n",
       "0 -0.189115  0.133558 -0.021053  149.62      0  \n",
       "1  0.125895 -0.008983  0.014724    2.69      0  \n",
       "2 -0.139097 -0.055353 -0.059752  378.66      0  \n",
       "3 -0.221929  0.062723  0.061458  123.50      0  \n",
       "4  0.502292  0.219422  0.215153   69.99      0  \n",
       "\n",
       "[5 rows x 31 columns]"
      ]
     },
     "execution_count": 7,
     "metadata": {},
     "output_type": "execute_result"
    }
   ],
   "source": [
    "data.head()"
   ]
  },
  {
   "cell_type": "code",
   "execution_count": 4,
   "metadata": {
    "execution": {
     "iopub.execute_input": "2021-02-23T18:26:47.849136Z",
     "iopub.status.busy": "2021-02-23T18:26:47.848375Z",
     "iopub.status.idle": "2021-02-23T18:26:47.888493Z",
     "shell.execute_reply": "2021-02-23T18:26:47.889626Z"
    },
    "papermill": {
     "duration": 0.087412,
     "end_time": "2021-02-23T18:26:47.889865",
     "exception": false,
     "start_time": "2021-02-23T18:26:47.802453",
     "status": "completed"
    },
    "tags": []
   },
   "outputs": [
    {
     "name": "stdout",
     "output_type": "stream",
     "text": [
      "<class 'pandas.core.frame.DataFrame'>\n",
      "RangeIndex: 284807 entries, 0 to 284806\n",
      "Data columns (total 31 columns):\n",
      " #   Column  Non-Null Count   Dtype  \n",
      "---  ------  --------------   -----  \n",
      " 0   Time    284807 non-null  float64\n",
      " 1   V1      284807 non-null  float64\n",
      " 2   V2      284807 non-null  float64\n",
      " 3   V3      284807 non-null  float64\n",
      " 4   V4      284807 non-null  float64\n",
      " 5   V5      284807 non-null  float64\n",
      " 6   V6      284807 non-null  float64\n",
      " 7   V7      284807 non-null  float64\n",
      " 8   V8      284807 non-null  float64\n",
      " 9   V9      284807 non-null  float64\n",
      " 10  V10     284807 non-null  float64\n",
      " 11  V11     284807 non-null  float64\n",
      " 12  V12     284807 non-null  float64\n",
      " 13  V13     284807 non-null  float64\n",
      " 14  V14     284807 non-null  float64\n",
      " 15  V15     284807 non-null  float64\n",
      " 16  V16     284807 non-null  float64\n",
      " 17  V17     284807 non-null  float64\n",
      " 18  V18     284807 non-null  float64\n",
      " 19  V19     284807 non-null  float64\n",
      " 20  V20     284807 non-null  float64\n",
      " 21  V21     284807 non-null  float64\n",
      " 22  V22     284807 non-null  float64\n",
      " 23  V23     284807 non-null  float64\n",
      " 24  V24     284807 non-null  float64\n",
      " 25  V25     284807 non-null  float64\n",
      " 26  V26     284807 non-null  float64\n",
      " 27  V27     284807 non-null  float64\n",
      " 28  V28     284807 non-null  float64\n",
      " 29  Amount  284807 non-null  float64\n",
      " 30  Class   284807 non-null  int64  \n",
      "dtypes: float64(30), int64(1)\n",
      "memory usage: 67.4 MB\n"
     ]
    }
   ],
   "source": [
    "data.info()"
   ]
  },
  {
   "cell_type": "code",
   "execution_count": 8,
   "metadata": {
    "execution": {
     "iopub.execute_input": "2021-02-23T18:26:47.982576Z",
     "iopub.status.busy": "2021-02-23T18:26:47.981703Z",
     "iopub.status.idle": "2021-02-23T18:26:48.366795Z",
     "shell.execute_reply": "2021-02-23T18:26:48.365854Z"
    },
    "papermill": {
     "duration": 0.437644,
     "end_time": "2021-02-23T18:26:48.366983",
     "exception": false,
     "start_time": "2021-02-23T18:26:47.929339",
     "status": "completed"
    },
    "tags": []
   },
   "outputs": [
    {
     "data": {
      "text/html": [
       "<div>\n",
       "<style scoped>\n",
       "    .dataframe tbody tr th:only-of-type {\n",
       "        vertical-align: middle;\n",
       "    }\n",
       "\n",
       "    .dataframe tbody tr th {\n",
       "        vertical-align: top;\n",
       "    }\n",
       "\n",
       "    .dataframe thead th {\n",
       "        text-align: right;\n",
       "    }\n",
       "</style>\n",
       "<table border=\"1\" class=\"dataframe\">\n",
       "  <thead>\n",
       "    <tr style=\"text-align: right;\">\n",
       "      <th></th>\n",
       "      <th>Time</th>\n",
       "      <th>V1</th>\n",
       "      <th>V2</th>\n",
       "      <th>V3</th>\n",
       "      <th>V4</th>\n",
       "      <th>V5</th>\n",
       "      <th>V6</th>\n",
       "      <th>V7</th>\n",
       "      <th>V8</th>\n",
       "      <th>V9</th>\n",
       "      <th>...</th>\n",
       "      <th>V21</th>\n",
       "      <th>V22</th>\n",
       "      <th>V23</th>\n",
       "      <th>V24</th>\n",
       "      <th>V25</th>\n",
       "      <th>V26</th>\n",
       "      <th>V27</th>\n",
       "      <th>V28</th>\n",
       "      <th>Amount</th>\n",
       "      <th>Class</th>\n",
       "    </tr>\n",
       "  </thead>\n",
       "  <tbody>\n",
       "    <tr>\n",
       "      <th>count</th>\n",
       "      <td>284807.000000</td>\n",
       "      <td>2.848070e+05</td>\n",
       "      <td>2.848070e+05</td>\n",
       "      <td>2.848070e+05</td>\n",
       "      <td>2.848070e+05</td>\n",
       "      <td>2.848070e+05</td>\n",
       "      <td>2.848070e+05</td>\n",
       "      <td>2.848070e+05</td>\n",
       "      <td>2.848070e+05</td>\n",
       "      <td>2.848070e+05</td>\n",
       "      <td>...</td>\n",
       "      <td>2.848070e+05</td>\n",
       "      <td>2.848070e+05</td>\n",
       "      <td>2.848070e+05</td>\n",
       "      <td>2.848070e+05</td>\n",
       "      <td>2.848070e+05</td>\n",
       "      <td>2.848070e+05</td>\n",
       "      <td>2.848070e+05</td>\n",
       "      <td>2.848070e+05</td>\n",
       "      <td>284807.000000</td>\n",
       "      <td>284807.000000</td>\n",
       "    </tr>\n",
       "    <tr>\n",
       "      <th>mean</th>\n",
       "      <td>94813.859575</td>\n",
       "      <td>3.919560e-15</td>\n",
       "      <td>5.688174e-16</td>\n",
       "      <td>-8.769071e-15</td>\n",
       "      <td>2.782312e-15</td>\n",
       "      <td>-1.552563e-15</td>\n",
       "      <td>2.010663e-15</td>\n",
       "      <td>-1.694249e-15</td>\n",
       "      <td>-1.927028e-16</td>\n",
       "      <td>-3.137024e-15</td>\n",
       "      <td>...</td>\n",
       "      <td>1.537294e-16</td>\n",
       "      <td>7.959909e-16</td>\n",
       "      <td>5.367590e-16</td>\n",
       "      <td>4.458112e-15</td>\n",
       "      <td>1.453003e-15</td>\n",
       "      <td>1.699104e-15</td>\n",
       "      <td>-3.660161e-16</td>\n",
       "      <td>-1.206049e-16</td>\n",
       "      <td>88.349619</td>\n",
       "      <td>0.001727</td>\n",
       "    </tr>\n",
       "    <tr>\n",
       "      <th>std</th>\n",
       "      <td>47488.145955</td>\n",
       "      <td>1.958696e+00</td>\n",
       "      <td>1.651309e+00</td>\n",
       "      <td>1.516255e+00</td>\n",
       "      <td>1.415869e+00</td>\n",
       "      <td>1.380247e+00</td>\n",
       "      <td>1.332271e+00</td>\n",
       "      <td>1.237094e+00</td>\n",
       "      <td>1.194353e+00</td>\n",
       "      <td>1.098632e+00</td>\n",
       "      <td>...</td>\n",
       "      <td>7.345240e-01</td>\n",
       "      <td>7.257016e-01</td>\n",
       "      <td>6.244603e-01</td>\n",
       "      <td>6.056471e-01</td>\n",
       "      <td>5.212781e-01</td>\n",
       "      <td>4.822270e-01</td>\n",
       "      <td>4.036325e-01</td>\n",
       "      <td>3.300833e-01</td>\n",
       "      <td>250.120109</td>\n",
       "      <td>0.041527</td>\n",
       "    </tr>\n",
       "    <tr>\n",
       "      <th>min</th>\n",
       "      <td>0.000000</td>\n",
       "      <td>-5.640751e+01</td>\n",
       "      <td>-7.271573e+01</td>\n",
       "      <td>-4.832559e+01</td>\n",
       "      <td>-5.683171e+00</td>\n",
       "      <td>-1.137433e+02</td>\n",
       "      <td>-2.616051e+01</td>\n",
       "      <td>-4.355724e+01</td>\n",
       "      <td>-7.321672e+01</td>\n",
       "      <td>-1.343407e+01</td>\n",
       "      <td>...</td>\n",
       "      <td>-3.483038e+01</td>\n",
       "      <td>-1.093314e+01</td>\n",
       "      <td>-4.480774e+01</td>\n",
       "      <td>-2.836627e+00</td>\n",
       "      <td>-1.029540e+01</td>\n",
       "      <td>-2.604551e+00</td>\n",
       "      <td>-2.256568e+01</td>\n",
       "      <td>-1.543008e+01</td>\n",
       "      <td>0.000000</td>\n",
       "      <td>0.000000</td>\n",
       "    </tr>\n",
       "    <tr>\n",
       "      <th>25%</th>\n",
       "      <td>54201.500000</td>\n",
       "      <td>-9.203734e-01</td>\n",
       "      <td>-5.985499e-01</td>\n",
       "      <td>-8.903648e-01</td>\n",
       "      <td>-8.486401e-01</td>\n",
       "      <td>-6.915971e-01</td>\n",
       "      <td>-7.682956e-01</td>\n",
       "      <td>-5.540759e-01</td>\n",
       "      <td>-2.086297e-01</td>\n",
       "      <td>-6.430976e-01</td>\n",
       "      <td>...</td>\n",
       "      <td>-2.283949e-01</td>\n",
       "      <td>-5.423504e-01</td>\n",
       "      <td>-1.618463e-01</td>\n",
       "      <td>-3.545861e-01</td>\n",
       "      <td>-3.171451e-01</td>\n",
       "      <td>-3.269839e-01</td>\n",
       "      <td>-7.083953e-02</td>\n",
       "      <td>-5.295979e-02</td>\n",
       "      <td>5.600000</td>\n",
       "      <td>0.000000</td>\n",
       "    </tr>\n",
       "    <tr>\n",
       "      <th>50%</th>\n",
       "      <td>84692.000000</td>\n",
       "      <td>1.810880e-02</td>\n",
       "      <td>6.548556e-02</td>\n",
       "      <td>1.798463e-01</td>\n",
       "      <td>-1.984653e-02</td>\n",
       "      <td>-5.433583e-02</td>\n",
       "      <td>-2.741871e-01</td>\n",
       "      <td>4.010308e-02</td>\n",
       "      <td>2.235804e-02</td>\n",
       "      <td>-5.142873e-02</td>\n",
       "      <td>...</td>\n",
       "      <td>-2.945017e-02</td>\n",
       "      <td>6.781943e-03</td>\n",
       "      <td>-1.119293e-02</td>\n",
       "      <td>4.097606e-02</td>\n",
       "      <td>1.659350e-02</td>\n",
       "      <td>-5.213911e-02</td>\n",
       "      <td>1.342146e-03</td>\n",
       "      <td>1.124383e-02</td>\n",
       "      <td>22.000000</td>\n",
       "      <td>0.000000</td>\n",
       "    </tr>\n",
       "    <tr>\n",
       "      <th>75%</th>\n",
       "      <td>139320.500000</td>\n",
       "      <td>1.315642e+00</td>\n",
       "      <td>8.037239e-01</td>\n",
       "      <td>1.027196e+00</td>\n",
       "      <td>7.433413e-01</td>\n",
       "      <td>6.119264e-01</td>\n",
       "      <td>3.985649e-01</td>\n",
       "      <td>5.704361e-01</td>\n",
       "      <td>3.273459e-01</td>\n",
       "      <td>5.971390e-01</td>\n",
       "      <td>...</td>\n",
       "      <td>1.863772e-01</td>\n",
       "      <td>5.285536e-01</td>\n",
       "      <td>1.476421e-01</td>\n",
       "      <td>4.395266e-01</td>\n",
       "      <td>3.507156e-01</td>\n",
       "      <td>2.409522e-01</td>\n",
       "      <td>9.104512e-02</td>\n",
       "      <td>7.827995e-02</td>\n",
       "      <td>77.165000</td>\n",
       "      <td>0.000000</td>\n",
       "    </tr>\n",
       "    <tr>\n",
       "      <th>max</th>\n",
       "      <td>172792.000000</td>\n",
       "      <td>2.454930e+00</td>\n",
       "      <td>2.205773e+01</td>\n",
       "      <td>9.382558e+00</td>\n",
       "      <td>1.687534e+01</td>\n",
       "      <td>3.480167e+01</td>\n",
       "      <td>7.330163e+01</td>\n",
       "      <td>1.205895e+02</td>\n",
       "      <td>2.000721e+01</td>\n",
       "      <td>1.559499e+01</td>\n",
       "      <td>...</td>\n",
       "      <td>2.720284e+01</td>\n",
       "      <td>1.050309e+01</td>\n",
       "      <td>2.252841e+01</td>\n",
       "      <td>4.584549e+00</td>\n",
       "      <td>7.519589e+00</td>\n",
       "      <td>3.517346e+00</td>\n",
       "      <td>3.161220e+01</td>\n",
       "      <td>3.384781e+01</td>\n",
       "      <td>25691.160000</td>\n",
       "      <td>1.000000</td>\n",
       "    </tr>\n",
       "  </tbody>\n",
       "</table>\n",
       "<p>8 rows × 31 columns</p>\n",
       "</div>"
      ],
      "text/plain": [
       "                Time            V1            V2            V3            V4  \\\n",
       "count  284807.000000  2.848070e+05  2.848070e+05  2.848070e+05  2.848070e+05   \n",
       "mean    94813.859575  3.919560e-15  5.688174e-16 -8.769071e-15  2.782312e-15   \n",
       "std     47488.145955  1.958696e+00  1.651309e+00  1.516255e+00  1.415869e+00   \n",
       "min         0.000000 -5.640751e+01 -7.271573e+01 -4.832559e+01 -5.683171e+00   \n",
       "25%     54201.500000 -9.203734e-01 -5.985499e-01 -8.903648e-01 -8.486401e-01   \n",
       "50%     84692.000000  1.810880e-02  6.548556e-02  1.798463e-01 -1.984653e-02   \n",
       "75%    139320.500000  1.315642e+00  8.037239e-01  1.027196e+00  7.433413e-01   \n",
       "max    172792.000000  2.454930e+00  2.205773e+01  9.382558e+00  1.687534e+01   \n",
       "\n",
       "                 V5            V6            V7            V8            V9  \\\n",
       "count  2.848070e+05  2.848070e+05  2.848070e+05  2.848070e+05  2.848070e+05   \n",
       "mean  -1.552563e-15  2.010663e-15 -1.694249e-15 -1.927028e-16 -3.137024e-15   \n",
       "std    1.380247e+00  1.332271e+00  1.237094e+00  1.194353e+00  1.098632e+00   \n",
       "min   -1.137433e+02 -2.616051e+01 -4.355724e+01 -7.321672e+01 -1.343407e+01   \n",
       "25%   -6.915971e-01 -7.682956e-01 -5.540759e-01 -2.086297e-01 -6.430976e-01   \n",
       "50%   -5.433583e-02 -2.741871e-01  4.010308e-02  2.235804e-02 -5.142873e-02   \n",
       "75%    6.119264e-01  3.985649e-01  5.704361e-01  3.273459e-01  5.971390e-01   \n",
       "max    3.480167e+01  7.330163e+01  1.205895e+02  2.000721e+01  1.559499e+01   \n",
       "\n",
       "       ...           V21           V22           V23           V24  \\\n",
       "count  ...  2.848070e+05  2.848070e+05  2.848070e+05  2.848070e+05   \n",
       "mean   ...  1.537294e-16  7.959909e-16  5.367590e-16  4.458112e-15   \n",
       "std    ...  7.345240e-01  7.257016e-01  6.244603e-01  6.056471e-01   \n",
       "min    ... -3.483038e+01 -1.093314e+01 -4.480774e+01 -2.836627e+00   \n",
       "25%    ... -2.283949e-01 -5.423504e-01 -1.618463e-01 -3.545861e-01   \n",
       "50%    ... -2.945017e-02  6.781943e-03 -1.119293e-02  4.097606e-02   \n",
       "75%    ...  1.863772e-01  5.285536e-01  1.476421e-01  4.395266e-01   \n",
       "max    ...  2.720284e+01  1.050309e+01  2.252841e+01  4.584549e+00   \n",
       "\n",
       "                V25           V26           V27           V28         Amount  \\\n",
       "count  2.848070e+05  2.848070e+05  2.848070e+05  2.848070e+05  284807.000000   \n",
       "mean   1.453003e-15  1.699104e-15 -3.660161e-16 -1.206049e-16      88.349619   \n",
       "std    5.212781e-01  4.822270e-01  4.036325e-01  3.300833e-01     250.120109   \n",
       "min   -1.029540e+01 -2.604551e+00 -2.256568e+01 -1.543008e+01       0.000000   \n",
       "25%   -3.171451e-01 -3.269839e-01 -7.083953e-02 -5.295979e-02       5.600000   \n",
       "50%    1.659350e-02 -5.213911e-02  1.342146e-03  1.124383e-02      22.000000   \n",
       "75%    3.507156e-01  2.409522e-01  9.104512e-02  7.827995e-02      77.165000   \n",
       "max    7.519589e+00  3.517346e+00  3.161220e+01  3.384781e+01   25691.160000   \n",
       "\n",
       "               Class  \n",
       "count  284807.000000  \n",
       "mean        0.001727  \n",
       "std         0.041527  \n",
       "min         0.000000  \n",
       "25%         0.000000  \n",
       "50%         0.000000  \n",
       "75%         0.000000  \n",
       "max         1.000000  \n",
       "\n",
       "[8 rows x 31 columns]"
      ]
     },
     "execution_count": 8,
     "metadata": {},
     "output_type": "execute_result"
    }
   ],
   "source": [
    "data.describe()"
   ]
  },
  {
   "cell_type": "code",
   "execution_count": 9,
   "metadata": {
    "execution": {
     "iopub.execute_input": "2021-02-23T18:26:48.430390Z",
     "iopub.status.busy": "2021-02-23T18:26:48.429639Z",
     "iopub.status.idle": "2021-02-23T18:26:48.439253Z",
     "shell.execute_reply": "2021-02-23T18:26:48.438640Z"
    },
    "papermill": {
     "duration": 0.04216,
     "end_time": "2021-02-23T18:26:48.439402",
     "exception": false,
     "start_time": "2021-02-23T18:26:48.397242",
     "status": "completed"
    },
    "tags": []
   },
   "outputs": [
    {
     "data": {
      "text/plain": [
       "0    284315\n",
       "1       492\n",
       "Name: Class, dtype: int64"
      ]
     },
     "execution_count": 9,
     "metadata": {},
     "output_type": "execute_result"
    }
   ],
   "source": [
    "data['Class'].value_counts()"
   ]
  },
  {
   "cell_type": "code",
   "execution_count": 7,
   "metadata": {
    "execution": {
     "iopub.execute_input": "2021-02-23T18:26:48.500746Z",
     "iopub.status.busy": "2021-02-23T18:26:48.499748Z",
     "iopub.status.idle": "2021-02-23T18:26:48.523996Z",
     "shell.execute_reply": "2021-02-23T18:26:48.523525Z"
    },
    "papermill": {
     "duration": 0.055087,
     "end_time": "2021-02-23T18:26:48.524122",
     "exception": false,
     "start_time": "2021-02-23T18:26:48.469035",
     "status": "completed"
    },
    "tags": []
   },
   "outputs": [
    {
     "data": {
      "text/plain": [
       "Time      0\n",
       "V1        0\n",
       "V2        0\n",
       "V3        0\n",
       "V4        0\n",
       "V5        0\n",
       "V6        0\n",
       "V7        0\n",
       "V8        0\n",
       "V9        0\n",
       "V10       0\n",
       "V11       0\n",
       "V12       0\n",
       "V13       0\n",
       "V14       0\n",
       "V15       0\n",
       "V16       0\n",
       "V17       0\n",
       "V18       0\n",
       "V19       0\n",
       "V20       0\n",
       "V21       0\n",
       "V22       0\n",
       "V23       0\n",
       "V24       0\n",
       "V25       0\n",
       "V26       0\n",
       "V27       0\n",
       "V28       0\n",
       "Amount    0\n",
       "Class     0\n",
       "dtype: int64"
      ]
     },
     "execution_count": 7,
     "metadata": {},
     "output_type": "execute_result"
    }
   ],
   "source": [
    "# checking for any null value\n",
    "data.isnull().sum()"
   ]
  },
  {
   "cell_type": "code",
   "execution_count": 11,
   "metadata": {
    "execution": {
     "iopub.execute_input": "2021-02-23T18:26:48.583402Z",
     "iopub.status.busy": "2021-02-23T18:26:48.582832Z",
     "iopub.status.idle": "2021-02-23T18:26:48.645484Z",
     "shell.execute_reply": "2021-02-23T18:26:48.644871Z"
    },
    "papermill": {
     "duration": 0.093934,
     "end_time": "2021-02-23T18:26:48.645628",
     "exception": false,
     "start_time": "2021-02-23T18:26:48.551694",
     "status": "completed"
    },
    "tags": []
   },
   "outputs": [],
   "source": [
    "# splitting fraud and non-fraud rows\n",
    "non_fraud_data = data[data['Class']==0]\n",
    "fraud_data = data[data['Class']==1]"
   ]
  },
  {
   "cell_type": "code",
   "execution_count": 12,
   "metadata": {
    "execution": {
     "iopub.execute_input": "2021-02-23T18:26:48.708173Z",
     "iopub.status.busy": "2021-02-23T18:26:48.707557Z",
     "iopub.status.idle": "2021-02-23T18:26:48.714139Z",
     "shell.execute_reply": "2021-02-23T18:26:48.713526Z"
    },
    "papermill": {
     "duration": 0.039391,
     "end_time": "2021-02-23T18:26:48.714283",
     "exception": false,
     "start_time": "2021-02-23T18:26:48.674892",
     "status": "completed"
    },
    "tags": []
   },
   "outputs": [
    {
     "data": {
      "text/plain": [
       "((284315, 31), (492, 31))"
      ]
     },
     "execution_count": 12,
     "metadata": {},
     "output_type": "execute_result"
    }
   ],
   "source": [
    "non_fraud_data.shape, fraud_data.shape"
   ]
  },
  {
   "cell_type": "code",
   "execution_count": 13,
   "metadata": {
    "execution": {
     "iopub.execute_input": "2021-02-23T18:26:48.775133Z",
     "iopub.status.busy": "2021-02-23T18:26:48.774364Z",
     "iopub.status.idle": "2021-02-23T18:26:48.786786Z",
     "shell.execute_reply": "2021-02-23T18:26:48.786247Z"
    },
    "papermill": {
     "duration": 0.04452,
     "end_time": "2021-02-23T18:26:48.786912",
     "exception": false,
     "start_time": "2021-02-23T18:26:48.742392",
     "status": "completed"
    },
    "tags": []
   },
   "outputs": [
    {
     "data": {
      "text/plain": [
       "(492, 31)"
      ]
     },
     "execution_count": 13,
     "metadata": {},
     "output_type": "execute_result"
    }
   ],
   "source": [
    "non_fraud_data_sample = non_fraud_data.sample(fraud_data.shape[0])\n",
    "\n",
    "non_fraud_data_sample.shape"
   ]
  },
  {
   "cell_type": "code",
   "execution_count": 15,
   "metadata": {
    "execution": {
     "iopub.execute_input": "2021-02-23T18:26:48.859036Z",
     "iopub.status.busy": "2021-02-23T18:26:48.848704Z",
     "iopub.status.idle": "2021-02-23T18:26:48.882680Z",
     "shell.execute_reply": "2021-02-23T18:26:48.883227Z"
    },
    "papermill": {
     "duration": 0.067258,
     "end_time": "2021-02-23T18:26:48.883402",
     "exception": false,
     "start_time": "2021-02-23T18:26:48.816144",
     "status": "completed"
    },
    "tags": []
   },
   "outputs": [
    {
     "data": {
      "text/html": [
       "<div>\n",
       "<style scoped>\n",
       "    .dataframe tbody tr th:only-of-type {\n",
       "        vertical-align: middle;\n",
       "    }\n",
       "\n",
       "    .dataframe tbody tr th {\n",
       "        vertical-align: top;\n",
       "    }\n",
       "\n",
       "    .dataframe thead th {\n",
       "        text-align: right;\n",
       "    }\n",
       "</style>\n",
       "<table border=\"1\" class=\"dataframe\">\n",
       "  <thead>\n",
       "    <tr style=\"text-align: right;\">\n",
       "      <th></th>\n",
       "      <th>Time</th>\n",
       "      <th>V1</th>\n",
       "      <th>V2</th>\n",
       "      <th>V3</th>\n",
       "      <th>V4</th>\n",
       "      <th>V5</th>\n",
       "      <th>V6</th>\n",
       "      <th>V7</th>\n",
       "      <th>V8</th>\n",
       "      <th>V9</th>\n",
       "      <th>...</th>\n",
       "      <th>V21</th>\n",
       "      <th>V22</th>\n",
       "      <th>V23</th>\n",
       "      <th>V24</th>\n",
       "      <th>V25</th>\n",
       "      <th>V26</th>\n",
       "      <th>V27</th>\n",
       "      <th>V28</th>\n",
       "      <th>Amount</th>\n",
       "      <th>Class</th>\n",
       "    </tr>\n",
       "  </thead>\n",
       "  <tbody>\n",
       "    <tr>\n",
       "      <th>0</th>\n",
       "      <td>406.0</td>\n",
       "      <td>-2.312227</td>\n",
       "      <td>1.951992</td>\n",
       "      <td>-1.609851</td>\n",
       "      <td>3.997906</td>\n",
       "      <td>-0.522188</td>\n",
       "      <td>-1.426545</td>\n",
       "      <td>-2.537387</td>\n",
       "      <td>1.391657</td>\n",
       "      <td>-2.770089</td>\n",
       "      <td>...</td>\n",
       "      <td>0.517232</td>\n",
       "      <td>-0.035049</td>\n",
       "      <td>-0.465211</td>\n",
       "      <td>0.320198</td>\n",
       "      <td>0.044519</td>\n",
       "      <td>0.177840</td>\n",
       "      <td>0.261145</td>\n",
       "      <td>-0.143276</td>\n",
       "      <td>0.00</td>\n",
       "      <td>1</td>\n",
       "    </tr>\n",
       "    <tr>\n",
       "      <th>1</th>\n",
       "      <td>472.0</td>\n",
       "      <td>-3.043541</td>\n",
       "      <td>-3.157307</td>\n",
       "      <td>1.088463</td>\n",
       "      <td>2.288644</td>\n",
       "      <td>1.359805</td>\n",
       "      <td>-1.064823</td>\n",
       "      <td>0.325574</td>\n",
       "      <td>-0.067794</td>\n",
       "      <td>-0.270953</td>\n",
       "      <td>...</td>\n",
       "      <td>0.661696</td>\n",
       "      <td>0.435477</td>\n",
       "      <td>1.375966</td>\n",
       "      <td>-0.293803</td>\n",
       "      <td>0.279798</td>\n",
       "      <td>-0.145362</td>\n",
       "      <td>-0.252773</td>\n",
       "      <td>0.035764</td>\n",
       "      <td>529.00</td>\n",
       "      <td>1</td>\n",
       "    </tr>\n",
       "    <tr>\n",
       "      <th>2</th>\n",
       "      <td>4462.0</td>\n",
       "      <td>-2.303350</td>\n",
       "      <td>1.759247</td>\n",
       "      <td>-0.359745</td>\n",
       "      <td>2.330243</td>\n",
       "      <td>-0.821628</td>\n",
       "      <td>-0.075788</td>\n",
       "      <td>0.562320</td>\n",
       "      <td>-0.399147</td>\n",
       "      <td>-0.238253</td>\n",
       "      <td>...</td>\n",
       "      <td>-0.294166</td>\n",
       "      <td>-0.932391</td>\n",
       "      <td>0.172726</td>\n",
       "      <td>-0.087330</td>\n",
       "      <td>-0.156114</td>\n",
       "      <td>-0.542628</td>\n",
       "      <td>0.039566</td>\n",
       "      <td>-0.153029</td>\n",
       "      <td>239.93</td>\n",
       "      <td>1</td>\n",
       "    </tr>\n",
       "    <tr>\n",
       "      <th>3</th>\n",
       "      <td>6986.0</td>\n",
       "      <td>-4.397974</td>\n",
       "      <td>1.358367</td>\n",
       "      <td>-2.592844</td>\n",
       "      <td>2.679787</td>\n",
       "      <td>-1.128131</td>\n",
       "      <td>-1.706536</td>\n",
       "      <td>-3.496197</td>\n",
       "      <td>-0.248778</td>\n",
       "      <td>-0.247768</td>\n",
       "      <td>...</td>\n",
       "      <td>0.573574</td>\n",
       "      <td>0.176968</td>\n",
       "      <td>-0.436207</td>\n",
       "      <td>-0.053502</td>\n",
       "      <td>0.252405</td>\n",
       "      <td>-0.657488</td>\n",
       "      <td>-0.827136</td>\n",
       "      <td>0.849573</td>\n",
       "      <td>59.00</td>\n",
       "      <td>1</td>\n",
       "    </tr>\n",
       "    <tr>\n",
       "      <th>4</th>\n",
       "      <td>7519.0</td>\n",
       "      <td>1.234235</td>\n",
       "      <td>3.019740</td>\n",
       "      <td>-4.304597</td>\n",
       "      <td>4.732795</td>\n",
       "      <td>3.624201</td>\n",
       "      <td>-1.357746</td>\n",
       "      <td>1.713445</td>\n",
       "      <td>-0.496358</td>\n",
       "      <td>-1.282858</td>\n",
       "      <td>...</td>\n",
       "      <td>-0.379068</td>\n",
       "      <td>-0.704181</td>\n",
       "      <td>-0.656805</td>\n",
       "      <td>-1.632653</td>\n",
       "      <td>1.488901</td>\n",
       "      <td>0.566797</td>\n",
       "      <td>-0.010016</td>\n",
       "      <td>0.146793</td>\n",
       "      <td>1.00</td>\n",
       "      <td>1</td>\n",
       "    </tr>\n",
       "    <tr>\n",
       "      <th>...</th>\n",
       "      <td>...</td>\n",
       "      <td>...</td>\n",
       "      <td>...</td>\n",
       "      <td>...</td>\n",
       "      <td>...</td>\n",
       "      <td>...</td>\n",
       "      <td>...</td>\n",
       "      <td>...</td>\n",
       "      <td>...</td>\n",
       "      <td>...</td>\n",
       "      <td>...</td>\n",
       "      <td>...</td>\n",
       "      <td>...</td>\n",
       "      <td>...</td>\n",
       "      <td>...</td>\n",
       "      <td>...</td>\n",
       "      <td>...</td>\n",
       "      <td>...</td>\n",
       "      <td>...</td>\n",
       "      <td>...</td>\n",
       "      <td>...</td>\n",
       "    </tr>\n",
       "    <tr>\n",
       "      <th>979</th>\n",
       "      <td>46331.0</td>\n",
       "      <td>1.267891</td>\n",
       "      <td>-0.496823</td>\n",
       "      <td>1.323935</td>\n",
       "      <td>0.663002</td>\n",
       "      <td>-1.450780</td>\n",
       "      <td>-0.154108</td>\n",
       "      <td>-0.956530</td>\n",
       "      <td>0.058380</td>\n",
       "      <td>-0.203225</td>\n",
       "      <td>...</td>\n",
       "      <td>-0.422313</td>\n",
       "      <td>-0.521626</td>\n",
       "      <td>0.075885</td>\n",
       "      <td>0.347452</td>\n",
       "      <td>0.314332</td>\n",
       "      <td>-0.407764</td>\n",
       "      <td>0.100802</td>\n",
       "      <td>0.043232</td>\n",
       "      <td>7.56</td>\n",
       "      <td>0</td>\n",
       "    </tr>\n",
       "    <tr>\n",
       "      <th>980</th>\n",
       "      <td>42973.0</td>\n",
       "      <td>-1.597403</td>\n",
       "      <td>0.386341</td>\n",
       "      <td>1.213110</td>\n",
       "      <td>1.377145</td>\n",
       "      <td>0.344764</td>\n",
       "      <td>-0.107751</td>\n",
       "      <td>0.112508</td>\n",
       "      <td>0.261858</td>\n",
       "      <td>0.134429</td>\n",
       "      <td>...</td>\n",
       "      <td>-0.123974</td>\n",
       "      <td>0.231513</td>\n",
       "      <td>-0.549898</td>\n",
       "      <td>0.236204</td>\n",
       "      <td>-0.283803</td>\n",
       "      <td>-0.312117</td>\n",
       "      <td>0.147444</td>\n",
       "      <td>-0.510250</td>\n",
       "      <td>20.61</td>\n",
       "      <td>0</td>\n",
       "    </tr>\n",
       "    <tr>\n",
       "      <th>981</th>\n",
       "      <td>145152.0</td>\n",
       "      <td>-0.311897</td>\n",
       "      <td>0.378300</td>\n",
       "      <td>1.132216</td>\n",
       "      <td>-1.044578</td>\n",
       "      <td>0.262066</td>\n",
       "      <td>-0.082376</td>\n",
       "      <td>0.332357</td>\n",
       "      <td>0.146162</td>\n",
       "      <td>0.878447</td>\n",
       "      <td>...</td>\n",
       "      <td>0.245414</td>\n",
       "      <td>0.818030</td>\n",
       "      <td>-0.277877</td>\n",
       "      <td>-0.784000</td>\n",
       "      <td>-0.332227</td>\n",
       "      <td>-0.330732</td>\n",
       "      <td>0.198512</td>\n",
       "      <td>0.183156</td>\n",
       "      <td>9.99</td>\n",
       "      <td>0</td>\n",
       "    </tr>\n",
       "    <tr>\n",
       "      <th>982</th>\n",
       "      <td>57637.0</td>\n",
       "      <td>1.196738</td>\n",
       "      <td>-1.056625</td>\n",
       "      <td>0.869313</td>\n",
       "      <td>-0.539670</td>\n",
       "      <td>-1.458759</td>\n",
       "      <td>-0.187659</td>\n",
       "      <td>-0.996145</td>\n",
       "      <td>0.006905</td>\n",
       "      <td>-0.123068</td>\n",
       "      <td>...</td>\n",
       "      <td>0.205480</td>\n",
       "      <td>0.428463</td>\n",
       "      <td>-0.167111</td>\n",
       "      <td>-0.075221</td>\n",
       "      <td>0.371516</td>\n",
       "      <td>-0.168129</td>\n",
       "      <td>0.032109</td>\n",
       "      <td>0.041052</td>\n",
       "      <td>110.00</td>\n",
       "      <td>0</td>\n",
       "    </tr>\n",
       "    <tr>\n",
       "      <th>983</th>\n",
       "      <td>146769.0</td>\n",
       "      <td>-4.082679</td>\n",
       "      <td>3.767394</td>\n",
       "      <td>-3.607969</td>\n",
       "      <td>-0.738146</td>\n",
       "      <td>-0.705061</td>\n",
       "      <td>-1.370755</td>\n",
       "      <td>-0.654368</td>\n",
       "      <td>2.631663</td>\n",
       "      <td>-1.370403</td>\n",
       "      <td>...</td>\n",
       "      <td>0.253568</td>\n",
       "      <td>-0.284348</td>\n",
       "      <td>-0.427277</td>\n",
       "      <td>-0.843326</td>\n",
       "      <td>1.389151</td>\n",
       "      <td>-0.503335</td>\n",
       "      <td>-1.334405</td>\n",
       "      <td>-0.382328</td>\n",
       "      <td>56.47</td>\n",
       "      <td>0</td>\n",
       "    </tr>\n",
       "  </tbody>\n",
       "</table>\n",
       "<p>984 rows × 31 columns</p>\n",
       "</div>"
      ],
      "text/plain": [
       "         Time        V1        V2        V3        V4        V5        V6  \\\n",
       "0       406.0 -2.312227  1.951992 -1.609851  3.997906 -0.522188 -1.426545   \n",
       "1       472.0 -3.043541 -3.157307  1.088463  2.288644  1.359805 -1.064823   \n",
       "2      4462.0 -2.303350  1.759247 -0.359745  2.330243 -0.821628 -0.075788   \n",
       "3      6986.0 -4.397974  1.358367 -2.592844  2.679787 -1.128131 -1.706536   \n",
       "4      7519.0  1.234235  3.019740 -4.304597  4.732795  3.624201 -1.357746   \n",
       "..        ...       ...       ...       ...       ...       ...       ...   \n",
       "979   46331.0  1.267891 -0.496823  1.323935  0.663002 -1.450780 -0.154108   \n",
       "980   42973.0 -1.597403  0.386341  1.213110  1.377145  0.344764 -0.107751   \n",
       "981  145152.0 -0.311897  0.378300  1.132216 -1.044578  0.262066 -0.082376   \n",
       "982   57637.0  1.196738 -1.056625  0.869313 -0.539670 -1.458759 -0.187659   \n",
       "983  146769.0 -4.082679  3.767394 -3.607969 -0.738146 -0.705061 -1.370755   \n",
       "\n",
       "           V7        V8        V9  ...       V21       V22       V23  \\\n",
       "0   -2.537387  1.391657 -2.770089  ...  0.517232 -0.035049 -0.465211   \n",
       "1    0.325574 -0.067794 -0.270953  ...  0.661696  0.435477  1.375966   \n",
       "2    0.562320 -0.399147 -0.238253  ... -0.294166 -0.932391  0.172726   \n",
       "3   -3.496197 -0.248778 -0.247768  ...  0.573574  0.176968 -0.436207   \n",
       "4    1.713445 -0.496358 -1.282858  ... -0.379068 -0.704181 -0.656805   \n",
       "..        ...       ...       ...  ...       ...       ...       ...   \n",
       "979 -0.956530  0.058380 -0.203225  ... -0.422313 -0.521626  0.075885   \n",
       "980  0.112508  0.261858  0.134429  ... -0.123974  0.231513 -0.549898   \n",
       "981  0.332357  0.146162  0.878447  ...  0.245414  0.818030 -0.277877   \n",
       "982 -0.996145  0.006905 -0.123068  ...  0.205480  0.428463 -0.167111   \n",
       "983 -0.654368  2.631663 -1.370403  ...  0.253568 -0.284348 -0.427277   \n",
       "\n",
       "          V24       V25       V26       V27       V28  Amount  Class  \n",
       "0    0.320198  0.044519  0.177840  0.261145 -0.143276    0.00      1  \n",
       "1   -0.293803  0.279798 -0.145362 -0.252773  0.035764  529.00      1  \n",
       "2   -0.087330 -0.156114 -0.542628  0.039566 -0.153029  239.93      1  \n",
       "3   -0.053502  0.252405 -0.657488 -0.827136  0.849573   59.00      1  \n",
       "4   -1.632653  1.488901  0.566797 -0.010016  0.146793    1.00      1  \n",
       "..        ...       ...       ...       ...       ...     ...    ...  \n",
       "979  0.347452  0.314332 -0.407764  0.100802  0.043232    7.56      0  \n",
       "980  0.236204 -0.283803 -0.312117  0.147444 -0.510250   20.61      0  \n",
       "981 -0.784000 -0.332227 -0.330732  0.198512  0.183156    9.99      0  \n",
       "982 -0.075221  0.371516 -0.168129  0.032109  0.041052  110.00      0  \n",
       "983 -0.843326  1.389151 -0.503335 -1.334405 -0.382328   56.47      0  \n",
       "\n",
       "[984 rows x 31 columns]"
      ]
     },
     "execution_count": 15,
     "metadata": {},
     "output_type": "execute_result"
    }
   ],
   "source": [
    "# balance dataset: rows 492(fraud) + 492 (non-fraud)\n",
    "bal_data = fraud_data.append(non_fraud_data_sample,ignore_index = True) \n",
    "bal_data"
   ]
  },
  {
   "cell_type": "code",
   "execution_count": 16,
   "metadata": {
    "execution": {
     "iopub.execute_input": "2021-02-23T18:26:48.951374Z",
     "iopub.status.busy": "2021-02-23T18:26:48.950023Z",
     "iopub.status.idle": "2021-02-23T18:26:48.953557Z",
     "shell.execute_reply": "2021-02-23T18:26:48.953983Z"
    },
    "papermill": {
     "duration": 0.039458,
     "end_time": "2021-02-23T18:26:48.954121",
     "exception": false,
     "start_time": "2021-02-23T18:26:48.914663",
     "status": "completed"
    },
    "tags": []
   },
   "outputs": [
    {
     "data": {
      "text/plain": [
       "1    492\n",
       "0    492\n",
       "Name: Class, dtype: int64"
      ]
     },
     "execution_count": 16,
     "metadata": {},
     "output_type": "execute_result"
    }
   ],
   "source": [
    "bal_data['Class'].value_counts()"
   ]
  },
  {
   "cell_type": "markdown",
   "metadata": {
    "papermill": {
     "duration": 0.029554,
     "end_time": "2021-02-23T18:26:49.013332",
     "exception": false,
     "start_time": "2021-02-23T18:26:48.983778",
     "status": "completed"
    },
    "tags": []
   },
   "source": [
    "## Splitting Features and labels\n",
    "* Features = Time, v1, v2 ....\n",
    "* Label/Target = Class"
   ]
  },
  {
   "cell_type": "code",
   "execution_count": 17,
   "metadata": {
    "execution": {
     "iopub.execute_input": "2021-02-23T18:26:49.077389Z",
     "iopub.status.busy": "2021-02-23T18:26:49.076811Z",
     "iopub.status.idle": "2021-02-23T18:26:49.080983Z",
     "shell.execute_reply": "2021-02-23T18:26:49.080499Z"
    },
    "papermill": {
     "duration": 0.038159,
     "end_time": "2021-02-23T18:26:49.081106",
     "exception": false,
     "start_time": "2021-02-23T18:26:49.042947",
     "status": "completed"
    },
    "tags": []
   },
   "outputs": [],
   "source": [
    "features = bal_data.drop('Class',axis=1)\n",
    "labels = bal_data['Class']"
   ]
  },
  {
   "cell_type": "code",
   "execution_count": 18,
   "metadata": {
    "execution": {
     "iopub.execute_input": "2021-02-23T18:26:49.147806Z",
     "iopub.status.busy": "2021-02-23T18:26:49.146776Z",
     "iopub.status.idle": "2021-02-23T18:26:49.153375Z",
     "shell.execute_reply": "2021-02-23T18:26:49.152771Z"
    },
    "papermill": {
     "duration": 0.042262,
     "end_time": "2021-02-23T18:26:49.153547",
     "exception": false,
     "start_time": "2021-02-23T18:26:49.111285",
     "status": "completed"
    },
    "tags": []
   },
   "outputs": [],
   "source": [
    "features_train,features_test,labels_train,labels_test = train_test_split(features,labels,test_size=.25,random_state=41,stratify = labels)"
   ]
  },
  {
   "cell_type": "code",
   "execution_count": 19,
   "metadata": {
    "execution": {
     "iopub.execute_input": "2021-02-23T18:26:49.219302Z",
     "iopub.status.busy": "2021-02-23T18:26:49.218737Z",
     "iopub.status.idle": "2021-02-23T18:26:49.224941Z",
     "shell.execute_reply": "2021-02-23T18:26:49.224438Z"
    },
    "papermill": {
     "duration": 0.040116,
     "end_time": "2021-02-23T18:26:49.225068",
     "exception": false,
     "start_time": "2021-02-23T18:26:49.184952",
     "status": "completed"
    },
    "tags": []
   },
   "outputs": [
    {
     "data": {
      "text/plain": [
       "((738, 30), (246, 30))"
      ]
     },
     "execution_count": 19,
     "metadata": {},
     "output_type": "execute_result"
    }
   ],
   "source": [
    "features_train.shape, features_test.shape"
   ]
  },
  {
   "cell_type": "code",
   "execution_count": 20,
   "metadata": {
    "execution": {
     "iopub.execute_input": "2021-02-23T18:26:49.300173Z",
     "iopub.status.busy": "2021-02-23T18:26:49.299203Z",
     "iopub.status.idle": "2021-02-23T18:26:49.315021Z",
     "shell.execute_reply": "2021-02-23T18:26:49.315555Z"
    },
    "papermill": {
     "duration": 0.060325,
     "end_time": "2021-02-23T18:26:49.315702",
     "exception": false,
     "start_time": "2021-02-23T18:26:49.255377",
     "status": "completed"
    },
    "tags": []
   },
   "outputs": [
    {
     "data": {
      "text/html": [
       "<div>\n",
       "<style scoped>\n",
       "    .dataframe tbody tr th:only-of-type {\n",
       "        vertical-align: middle;\n",
       "    }\n",
       "\n",
       "    .dataframe tbody tr th {\n",
       "        vertical-align: top;\n",
       "    }\n",
       "\n",
       "    .dataframe thead th {\n",
       "        text-align: right;\n",
       "    }\n",
       "</style>\n",
       "<table border=\"1\" class=\"dataframe\">\n",
       "  <thead>\n",
       "    <tr style=\"text-align: right;\">\n",
       "      <th></th>\n",
       "      <th>Time</th>\n",
       "      <th>V1</th>\n",
       "      <th>V2</th>\n",
       "      <th>V3</th>\n",
       "      <th>V4</th>\n",
       "      <th>V5</th>\n",
       "      <th>V6</th>\n",
       "      <th>V7</th>\n",
       "      <th>V8</th>\n",
       "      <th>V9</th>\n",
       "      <th>...</th>\n",
       "      <th>V20</th>\n",
       "      <th>V21</th>\n",
       "      <th>V22</th>\n",
       "      <th>V23</th>\n",
       "      <th>V24</th>\n",
       "      <th>V25</th>\n",
       "      <th>V26</th>\n",
       "      <th>V27</th>\n",
       "      <th>V28</th>\n",
       "      <th>Amount</th>\n",
       "    </tr>\n",
       "  </thead>\n",
       "  <tbody>\n",
       "    <tr>\n",
       "      <th>234</th>\n",
       "      <td>70229.0</td>\n",
       "      <td>0.315642</td>\n",
       "      <td>1.636778</td>\n",
       "      <td>-1.519650</td>\n",
       "      <td>4.028571</td>\n",
       "      <td>-1.186794</td>\n",
       "      <td>-0.789813</td>\n",
       "      <td>-2.279807</td>\n",
       "      <td>0.472988</td>\n",
       "      <td>-1.657635</td>\n",
       "      <td>...</td>\n",
       "      <td>0.388885</td>\n",
       "      <td>0.345921</td>\n",
       "      <td>-0.108002</td>\n",
       "      <td>-0.165442</td>\n",
       "      <td>0.279895</td>\n",
       "      <td>0.808783</td>\n",
       "      <td>0.117363</td>\n",
       "      <td>0.589595</td>\n",
       "      <td>0.309064</td>\n",
       "      <td>3.79</td>\n",
       "    </tr>\n",
       "    <tr>\n",
       "      <th>141</th>\n",
       "      <td>42247.0</td>\n",
       "      <td>-2.524012</td>\n",
       "      <td>2.098152</td>\n",
       "      <td>-4.946075</td>\n",
       "      <td>6.456588</td>\n",
       "      <td>3.173921</td>\n",
       "      <td>-3.058806</td>\n",
       "      <td>-0.184710</td>\n",
       "      <td>-0.390420</td>\n",
       "      <td>-3.649812</td>\n",
       "      <td>...</td>\n",
       "      <td>-0.162797</td>\n",
       "      <td>0.027935</td>\n",
       "      <td>0.220366</td>\n",
       "      <td>0.976348</td>\n",
       "      <td>-0.290539</td>\n",
       "      <td>1.161002</td>\n",
       "      <td>0.663954</td>\n",
       "      <td>0.456023</td>\n",
       "      <td>-0.405682</td>\n",
       "      <td>1.00</td>\n",
       "    </tr>\n",
       "    <tr>\n",
       "      <th>871</th>\n",
       "      <td>37915.0</td>\n",
       "      <td>1.447757</td>\n",
       "      <td>-1.044060</td>\n",
       "      <td>0.223792</td>\n",
       "      <td>-1.378274</td>\n",
       "      <td>-1.357806</td>\n",
       "      <td>-0.762301</td>\n",
       "      <td>-0.832304</td>\n",
       "      <td>-0.071479</td>\n",
       "      <td>-1.808722</td>\n",
       "      <td>...</td>\n",
       "      <td>-0.440264</td>\n",
       "      <td>-0.627230</td>\n",
       "      <td>-1.595979</td>\n",
       "      <td>0.325747</td>\n",
       "      <td>-0.066839</td>\n",
       "      <td>-0.051862</td>\n",
       "      <td>-0.607789</td>\n",
       "      <td>0.019450</td>\n",
       "      <td>0.020693</td>\n",
       "      <td>32.00</td>\n",
       "    </tr>\n",
       "    <tr>\n",
       "      <th>143</th>\n",
       "      <td>42985.0</td>\n",
       "      <td>-4.075975</td>\n",
       "      <td>0.963031</td>\n",
       "      <td>-5.076070</td>\n",
       "      <td>4.955963</td>\n",
       "      <td>-0.161437</td>\n",
       "      <td>-2.832663</td>\n",
       "      <td>-7.619765</td>\n",
       "      <td>1.618895</td>\n",
       "      <td>-2.992092</td>\n",
       "      <td>...</td>\n",
       "      <td>0.058861</td>\n",
       "      <td>1.030738</td>\n",
       "      <td>0.165328</td>\n",
       "      <td>-1.017502</td>\n",
       "      <td>-0.477983</td>\n",
       "      <td>-0.304987</td>\n",
       "      <td>-0.106089</td>\n",
       "      <td>1.899714</td>\n",
       "      <td>0.511462</td>\n",
       "      <td>1.00</td>\n",
       "    </tr>\n",
       "    <tr>\n",
       "      <th>65</th>\n",
       "      <td>26863.0</td>\n",
       "      <td>-21.209120</td>\n",
       "      <td>12.652197</td>\n",
       "      <td>-23.553933</td>\n",
       "      <td>6.174078</td>\n",
       "      <td>-16.026658</td>\n",
       "      <td>-4.422195</td>\n",
       "      <td>-16.229444</td>\n",
       "      <td>14.116002</td>\n",
       "      <td>-3.922741</td>\n",
       "      <td>...</td>\n",
       "      <td>1.602439</td>\n",
       "      <td>1.758440</td>\n",
       "      <td>-1.522588</td>\n",
       "      <td>-0.903860</td>\n",
       "      <td>0.130166</td>\n",
       "      <td>1.454857</td>\n",
       "      <td>-0.223214</td>\n",
       "      <td>1.550928</td>\n",
       "      <td>0.461460</td>\n",
       "      <td>99.99</td>\n",
       "    </tr>\n",
       "  </tbody>\n",
       "</table>\n",
       "<p>5 rows × 30 columns</p>\n",
       "</div>"
      ],
      "text/plain": [
       "        Time         V1         V2         V3        V4         V5        V6  \\\n",
       "234  70229.0   0.315642   1.636778  -1.519650  4.028571  -1.186794 -0.789813   \n",
       "141  42247.0  -2.524012   2.098152  -4.946075  6.456588   3.173921 -3.058806   \n",
       "871  37915.0   1.447757  -1.044060   0.223792 -1.378274  -1.357806 -0.762301   \n",
       "143  42985.0  -4.075975   0.963031  -5.076070  4.955963  -0.161437 -2.832663   \n",
       "65   26863.0 -21.209120  12.652197 -23.553933  6.174078 -16.026658 -4.422195   \n",
       "\n",
       "            V7         V8        V9  ...       V20       V21       V22  \\\n",
       "234  -2.279807   0.472988 -1.657635  ...  0.388885  0.345921 -0.108002   \n",
       "141  -0.184710  -0.390420 -3.649812  ... -0.162797  0.027935  0.220366   \n",
       "871  -0.832304  -0.071479 -1.808722  ... -0.440264 -0.627230 -1.595979   \n",
       "143  -7.619765   1.618895 -2.992092  ...  0.058861  1.030738  0.165328   \n",
       "65  -16.229444  14.116002 -3.922741  ...  1.602439  1.758440 -1.522588   \n",
       "\n",
       "          V23       V24       V25       V26       V27       V28  Amount  \n",
       "234 -0.165442  0.279895  0.808783  0.117363  0.589595  0.309064    3.79  \n",
       "141  0.976348 -0.290539  1.161002  0.663954  0.456023 -0.405682    1.00  \n",
       "871  0.325747 -0.066839 -0.051862 -0.607789  0.019450  0.020693   32.00  \n",
       "143 -1.017502 -0.477983 -0.304987 -0.106089  1.899714  0.511462    1.00  \n",
       "65  -0.903860  0.130166  1.454857 -0.223214  1.550928  0.461460   99.99  \n",
       "\n",
       "[5 rows x 30 columns]"
      ]
     },
     "execution_count": 20,
     "metadata": {},
     "output_type": "execute_result"
    }
   ],
   "source": [
    "labels_test.value_counts()\n",
    "features_train.head()"
   ]
  },
  {
   "cell_type": "markdown",
   "metadata": {
    "papermill": {
     "duration": 0.032362,
     "end_time": "2021-02-23T18:26:49.382590",
     "exception": false,
     "start_time": "2021-02-23T18:26:49.350228",
     "status": "completed"
    },
    "tags": []
   },
   "source": [
    "## Scaling the Database"
   ]
  },
  {
   "cell_type": "code",
   "execution_count": 21,
   "metadata": {
    "execution": {
     "iopub.execute_input": "2021-02-23T18:26:49.457649Z",
     "iopub.status.busy": "2021-02-23T18:26:49.456621Z",
     "iopub.status.idle": "2021-02-23T18:26:49.467831Z",
     "shell.execute_reply": "2021-02-23T18:26:49.468391Z"
    },
    "papermill": {
     "duration": 0.05259,
     "end_time": "2021-02-23T18:26:49.468577",
     "exception": false,
     "start_time": "2021-02-23T18:26:49.415987",
     "status": "completed"
    },
    "tags": []
   },
   "outputs": [],
   "source": [
    "scaler = StandardScaler()\n",
    "features_train = scaler.fit_transform(features_train)\n",
    "features_test = scaler.fit_transform(features_test)\n",
    "\n",
    "# converting features into dataframe\n",
    "features_train = pd.DataFrame(features_train)\n",
    "features_test = pd.DataFrame(features_test)"
   ]
  },
  {
   "cell_type": "markdown",
   "metadata": {
    "papermill": {
     "duration": 0.032427,
     "end_time": "2021-02-23T18:26:49.537070",
     "exception": false,
     "start_time": "2021-02-23T18:26:49.504643",
     "status": "completed"
    },
    "tags": []
   },
   "source": [
    "## Reshaping the database into 3D\n",
    "* We are using CNN for prediction so converting 2D dataset into 3D"
   ]
  },
  {
   "cell_type": "code",
   "execution_count": 22,
   "metadata": {
    "execution": {
     "iopub.execute_input": "2021-02-23T18:26:49.605702Z",
     "iopub.status.busy": "2021-02-23T18:26:49.605079Z",
     "iopub.status.idle": "2021-02-23T18:26:49.609151Z",
     "shell.execute_reply": "2021-02-23T18:26:49.608680Z"
    },
    "papermill": {
     "duration": 0.039147,
     "end_time": "2021-02-23T18:26:49.609270",
     "exception": false,
     "start_time": "2021-02-23T18:26:49.570123",
     "status": "completed"
    },
    "tags": []
   },
   "outputs": [],
   "source": [
    "features_train = features_train.to_numpy()\n",
    "features_test = features_test.to_numpy()"
   ]
  },
  {
   "cell_type": "code",
   "execution_count": 23,
   "metadata": {
    "execution": {
     "iopub.execute_input": "2021-02-23T18:26:49.681575Z",
     "iopub.status.busy": "2021-02-23T18:26:49.680855Z",
     "iopub.status.idle": "2021-02-23T18:26:49.684434Z",
     "shell.execute_reply": "2021-02-23T18:26:49.684899Z"
    },
    "papermill": {
     "duration": 0.043814,
     "end_time": "2021-02-23T18:26:49.685031",
     "exception": false,
     "start_time": "2021-02-23T18:26:49.641217",
     "status": "completed"
    },
    "tags": []
   },
   "outputs": [
    {
     "data": {
      "text/plain": [
       "((738, 30, 1), (246, 30, 1))"
      ]
     },
     "execution_count": 23,
     "metadata": {},
     "output_type": "execute_result"
    }
   ],
   "source": [
    "features_train = features_train.reshape(features_train.shape[0],features_train.shape[1],1)\n",
    "features_test = features_test.reshape(features_test.shape[0],features_test.shape[1],1)\n",
    "\n",
    "features_train.shape, features_test.shape"
   ]
  },
  {
   "cell_type": "markdown",
   "metadata": {
    "papermill": {
     "duration": 0.03281,
     "end_time": "2021-02-23T18:26:49.750372",
     "exception": false,
     "start_time": "2021-02-23T18:26:49.717562",
     "status": "completed"
    },
    "tags": []
   },
   "source": [
    "## Build CNN (Convolutional Neural Network)"
   ]
  },
  {
   "cell_type": "code",
   "execution_count": 24,
   "metadata": {
    "execution": {
     "iopub.execute_input": "2021-02-23T18:26:49.824229Z",
     "iopub.status.busy": "2021-02-23T18:26:49.823537Z",
     "iopub.status.idle": "2021-02-23T18:26:52.461638Z",
     "shell.execute_reply": "2021-02-23T18:26:52.460299Z"
    },
    "papermill": {
     "duration": 2.678735,
     "end_time": "2021-02-23T18:26:52.461792",
     "exception": false,
     "start_time": "2021-02-23T18:26:49.783057",
     "status": "completed"
    },
    "tags": []
   },
   "outputs": [],
   "source": [
    "# defining the hyperparameter\n",
    "epochs = 45\n",
    "model = Sequential()\n",
    "\n",
    "# FIRST LAYER\n",
    "model.add(Conv1D(32,2,activation = 'relu',input_shape = features_train[0].shape))\n",
    "model.add(BatchNormalization())\n",
    "'''Batch normalization is a technique for training very deep neural networks \n",
    "   that standardizes the inputs to a layer for each mini-batch. This \n",
    "   has the effect of stabilizing the learning process and dramatically\n",
    "   reducing the number of training epochs required to train deep networks'''\n",
    "model.add(Dropout(0.2)) # prevents over-fitting (randomly remove some neurons)\n",
    "\n",
    "# SECOND LAYER\n",
    "model.add(Conv1D(64,2,activation = 'relu'))\n",
    "model.add(BatchNormalization())\n",
    "model.add(Dropout(0.5))\n",
    "\n",
    "# Flattening the layer ( multidimentional data into vector)\n",
    "model.add(Flatten())\n",
    "model.add(Dense(64,activation = 'relu'))\n",
    "model.add(Dropout(0.5))\n",
    "\n",
    "# FINAL LAYER\n",
    "model.add(Dense(1,activation='sigmoid')) # binary classification \n"
   ]
  },
  {
   "cell_type": "code",
   "execution_count": 21,
   "metadata": {
    "execution": {
     "iopub.execute_input": "2021-02-23T18:26:52.539034Z",
     "iopub.status.busy": "2021-02-23T18:26:52.537482Z",
     "iopub.status.idle": "2021-02-23T18:26:52.543518Z",
     "shell.execute_reply": "2021-02-23T18:26:52.542966Z"
    },
    "papermill": {
     "duration": 0.048064,
     "end_time": "2021-02-23T18:26:52.543648",
     "exception": false,
     "start_time": "2021-02-23T18:26:52.495584",
     "status": "completed"
    },
    "tags": []
   },
   "outputs": [
    {
     "name": "stdout",
     "output_type": "stream",
     "text": [
      "Model: \"sequential\"\n",
      "_________________________________________________________________\n",
      "Layer (type)                 Output Shape              Param #   \n",
      "=================================================================\n",
      "conv1d (Conv1D)              (None, 29, 32)            96        \n",
      "_________________________________________________________________\n",
      "batch_normalization (BatchNo (None, 29, 32)            128       \n",
      "_________________________________________________________________\n",
      "dropout (Dropout)            (None, 29, 32)            0         \n",
      "_________________________________________________________________\n",
      "conv1d_1 (Conv1D)            (None, 28, 64)            4160      \n",
      "_________________________________________________________________\n",
      "batch_normalization_1 (Batch (None, 28, 64)            256       \n",
      "_________________________________________________________________\n",
      "dropout_1 (Dropout)          (None, 28, 64)            0         \n",
      "_________________________________________________________________\n",
      "flatten (Flatten)            (None, 1792)              0         \n",
      "_________________________________________________________________\n",
      "dense (Dense)                (None, 64)                114752    \n",
      "_________________________________________________________________\n",
      "dropout_2 (Dropout)          (None, 64)                0         \n",
      "_________________________________________________________________\n",
      "dense_1 (Dense)              (None, 1)                 65        \n",
      "=================================================================\n",
      "Total params: 119,457\n",
      "Trainable params: 119,265\n",
      "Non-trainable params: 192\n",
      "_________________________________________________________________\n"
     ]
    }
   ],
   "source": [
    "model.summary()"
   ]
  },
  {
   "cell_type": "code",
   "execution_count": 27,
   "metadata": {
    "execution": {
     "iopub.execute_input": "2021-02-23T18:26:52.621979Z",
     "iopub.status.busy": "2021-02-23T18:26:52.616025Z",
     "iopub.status.idle": "2021-02-23T18:26:52.629914Z",
     "shell.execute_reply": "2021-02-23T18:26:52.629381Z"
    },
    "papermill": {
     "duration": 0.052243,
     "end_time": "2021-02-23T18:26:52.630061",
     "exception": false,
     "start_time": "2021-02-23T18:26:52.577818",
     "status": "completed"
    },
    "tags": []
   },
   "outputs": [],
   "source": [
    "# optimizing the model \n",
    "model.compile(optimizer = Adam(learning_rate=0.0001),loss = 'binary_crossentropy',metrics=['accuracy'])"
   ]
  },
  {
   "cell_type": "code",
   "execution_count": 28,
   "metadata": {
    "execution": {
     "iopub.execute_input": "2021-02-23T18:26:52.706901Z",
     "iopub.status.busy": "2021-02-23T18:26:52.706261Z",
     "iopub.status.idle": "2021-02-23T18:27:03.761384Z",
     "shell.execute_reply": "2021-02-23T18:27:03.762110Z"
    },
    "papermill": {
     "duration": 11.096135,
     "end_time": "2021-02-23T18:27:03.762342",
     "exception": false,
     "start_time": "2021-02-23T18:26:52.666207",
     "status": "completed"
    },
    "tags": []
   },
   "outputs": [
    {
     "name": "stdout",
     "output_type": "stream",
     "text": [
      "Epoch 1/45\n",
      "24/24 [==============================] - 2s 20ms/step - loss: 0.7660 - accuracy: 0.6260 - val_loss: 0.6198 - val_accuracy: 0.9024\n",
      "Epoch 2/45\n",
      "24/24 [==============================] - 0s 10ms/step - loss: 0.4706 - accuracy: 0.7995 - val_loss: 0.5711 - val_accuracy: 0.9228\n",
      "Epoch 3/45\n",
      "24/24 [==============================] - 0s 9ms/step - loss: 0.4032 - accuracy: 0.8388 - val_loss: 0.5408 - val_accuracy: 0.8902\n",
      "Epoch 4/45\n",
      "24/24 [==============================] - 0s 7ms/step - loss: 0.3624 - accuracy: 0.8780 - val_loss: 0.5107 - val_accuracy: 0.8374\n",
      "Epoch 5/45\n",
      "24/24 [==============================] - 0s 7ms/step - loss: 0.3394 - accuracy: 0.8753 - val_loss: 0.4892 - val_accuracy: 0.7886\n",
      "Epoch 6/45\n",
      "24/24 [==============================] - 0s 7ms/step - loss: 0.3054 - accuracy: 0.8862 - val_loss: 0.4600 - val_accuracy: 0.8130\n",
      "Epoch 7/45\n",
      "24/24 [==============================] - 0s 8ms/step - loss: 0.3019 - accuracy: 0.9011 - val_loss: 0.4392 - val_accuracy: 0.8130\n",
      "Epoch 8/45\n",
      "24/24 [==============================] - 0s 7ms/step - loss: 0.2613 - accuracy: 0.9187 - val_loss: 0.4100 - val_accuracy: 0.8496\n",
      "Epoch 9/45\n",
      "24/24 [==============================] - 0s 7ms/step - loss: 0.2853 - accuracy: 0.8970 - val_loss: 0.3721 - val_accuracy: 0.8821\n",
      "Epoch 10/45\n",
      "24/24 [==============================] - 0s 7ms/step - loss: 0.3010 - accuracy: 0.8984 - val_loss: 0.3427 - val_accuracy: 0.9065\n",
      "Epoch 11/45\n",
      "24/24 [==============================] - 0s 8ms/step - loss: 0.2420 - accuracy: 0.9038 - val_loss: 0.3120 - val_accuracy: 0.9187\n",
      "Epoch 12/45\n",
      "24/24 [==============================] - 0s 8ms/step - loss: 0.2757 - accuracy: 0.9092 - val_loss: 0.2792 - val_accuracy: 0.9187\n",
      "Epoch 13/45\n",
      "24/24 [==============================] - 0s 7ms/step - loss: 0.2405 - accuracy: 0.9051 - val_loss: 0.2515 - val_accuracy: 0.9228\n",
      "Epoch 14/45\n",
      "24/24 [==============================] - 0s 6ms/step - loss: 0.2349 - accuracy: 0.9187 - val_loss: 0.2238 - val_accuracy: 0.9309\n",
      "Epoch 15/45\n",
      "24/24 [==============================] - 0s 7ms/step - loss: 0.2275 - accuracy: 0.9228 - val_loss: 0.2036 - val_accuracy: 0.9350\n",
      "Epoch 16/45\n",
      "24/24 [==============================] - 0s 8ms/step - loss: 0.2434 - accuracy: 0.9187 - val_loss: 0.1857 - val_accuracy: 0.9390\n",
      "Epoch 17/45\n",
      "24/24 [==============================] - 0s 7ms/step - loss: 0.2600 - accuracy: 0.9146 - val_loss: 0.1818 - val_accuracy: 0.9350\n",
      "Epoch 18/45\n",
      "24/24 [==============================] - 0s 8ms/step - loss: 0.2230 - accuracy: 0.9201 - val_loss: 0.1755 - val_accuracy: 0.9390\n",
      "Epoch 19/45\n",
      "24/24 [==============================] - 0s 8ms/step - loss: 0.2230 - accuracy: 0.9201 - val_loss: 0.1704 - val_accuracy: 0.9390\n",
      "Epoch 20/45\n",
      "24/24 [==============================] - 0s 7ms/step - loss: 0.2255 - accuracy: 0.9187 - val_loss: 0.1689 - val_accuracy: 0.9350\n",
      "Epoch 21/45\n",
      "24/24 [==============================] - 0s 8ms/step - loss: 0.2099 - accuracy: 0.9228 - val_loss: 0.1653 - val_accuracy: 0.9390\n",
      "Epoch 22/45\n",
      "24/24 [==============================] - 0s 7ms/step - loss: 0.2340 - accuracy: 0.9146 - val_loss: 0.1637 - val_accuracy: 0.9350\n",
      "Epoch 23/45\n",
      "24/24 [==============================] - 0s 7ms/step - loss: 0.1926 - accuracy: 0.9282 - val_loss: 0.1608 - val_accuracy: 0.9350\n",
      "Epoch 24/45\n",
      "24/24 [==============================] - 0s 7ms/step - loss: 0.1987 - accuracy: 0.9322 - val_loss: 0.1587 - val_accuracy: 0.9350\n",
      "Epoch 25/45\n",
      "24/24 [==============================] - 0s 7ms/step - loss: 0.1868 - accuracy: 0.9241 - val_loss: 0.1561 - val_accuracy: 0.9350\n",
      "Epoch 26/45\n",
      "24/24 [==============================] - 0s 6ms/step - loss: 0.2036 - accuracy: 0.9363 - val_loss: 0.1535 - val_accuracy: 0.9390\n",
      "Epoch 27/45\n",
      "24/24 [==============================] - 0s 7ms/step - loss: 0.1917 - accuracy: 0.9309 - val_loss: 0.1523 - val_accuracy: 0.9390\n",
      "Epoch 28/45\n",
      "24/24 [==============================] - 0s 7ms/step - loss: 0.1786 - accuracy: 0.9390 - val_loss: 0.1505 - val_accuracy: 0.9350\n",
      "Epoch 29/45\n",
      "24/24 [==============================] - 0s 6ms/step - loss: 0.1816 - accuracy: 0.9390 - val_loss: 0.1501 - val_accuracy: 0.9390\n",
      "Epoch 30/45\n",
      "24/24 [==============================] - 0s 7ms/step - loss: 0.1807 - accuracy: 0.9309 - val_loss: 0.1502 - val_accuracy: 0.9350\n",
      "Epoch 31/45\n",
      "24/24 [==============================] - 0s 6ms/step - loss: 0.1723 - accuracy: 0.9417 - val_loss: 0.1489 - val_accuracy: 0.9350\n",
      "Epoch 32/45\n",
      "24/24 [==============================] - 0s 7ms/step - loss: 0.1983 - accuracy: 0.9322 - val_loss: 0.1484 - val_accuracy: 0.9350\n",
      "Epoch 33/45\n",
      "24/24 [==============================] - 0s 6ms/step - loss: 0.1866 - accuracy: 0.9336 - val_loss: 0.1476 - val_accuracy: 0.9350\n",
      "Epoch 34/45\n",
      "24/24 [==============================] - 0s 8ms/step - loss: 0.1697 - accuracy: 0.9512 - val_loss: 0.1480 - val_accuracy: 0.9390\n",
      "Epoch 35/45\n",
      "24/24 [==============================] - 0s 8ms/step - loss: 0.1940 - accuracy: 0.9377 - val_loss: 0.1492 - val_accuracy: 0.9390\n",
      "Epoch 36/45\n",
      "24/24 [==============================] - 0s 8ms/step - loss: 0.1882 - accuracy: 0.9295 - val_loss: 0.1514 - val_accuracy: 0.9390\n",
      "Epoch 37/45\n",
      "24/24 [==============================] - 0s 8ms/step - loss: 0.1607 - accuracy: 0.9390 - val_loss: 0.1506 - val_accuracy: 0.9390\n",
      "Epoch 38/45\n",
      "24/24 [==============================] - 0s 8ms/step - loss: 0.1701 - accuracy: 0.9363 - val_loss: 0.1548 - val_accuracy: 0.9350\n",
      "Epoch 39/45\n",
      "24/24 [==============================] - 0s 8ms/step - loss: 0.1604 - accuracy: 0.9472 - val_loss: 0.1569 - val_accuracy: 0.9350\n",
      "Epoch 40/45\n",
      "24/24 [==============================] - 0s 8ms/step - loss: 0.1682 - accuracy: 0.9336 - val_loss: 0.1578 - val_accuracy: 0.9350\n",
      "Epoch 41/45\n",
      "24/24 [==============================] - 0s 7ms/step - loss: 0.1813 - accuracy: 0.9282 - val_loss: 0.1573 - val_accuracy: 0.9309\n",
      "Epoch 42/45\n",
      "24/24 [==============================] - 0s 6ms/step - loss: 0.1545 - accuracy: 0.9444 - val_loss: 0.1589 - val_accuracy: 0.9309\n",
      "Epoch 43/45\n",
      "24/24 [==============================] - 0s 6ms/step - loss: 0.1466 - accuracy: 0.9431 - val_loss: 0.1593 - val_accuracy: 0.9309\n",
      "Epoch 44/45\n",
      "24/24 [==============================] - 0s 6ms/step - loss: 0.1647 - accuracy: 0.9444 - val_loss: 0.1583 - val_accuracy: 0.9350\n",
      "Epoch 45/45\n",
      "24/24 [==============================] - 0s 6ms/step - loss: 0.1767 - accuracy: 0.9282 - val_loss: 0.1615 - val_accuracy: 0.9309\n"
     ]
    }
   ],
   "source": [
    "# Training the model, Calculating the accuracy \n",
    "history = model.fit(features_train, labels_train, epochs = epochs,\n",
    "                    validation_data = (features_test,labels_test),verbose = 1)"
   ]
  },
  {
   "cell_type": "markdown",
   "metadata": {
    "papermill": {
     "duration": 0.079642,
     "end_time": "2021-02-23T18:27:03.920641",
     "exception": false,
     "start_time": "2021-02-23T18:27:03.840999",
     "status": "completed"
    },
    "tags": []
   },
   "source": [
    "## Plotting a Learning Curve"
   ]
  },
  {
   "cell_type": "code",
   "execution_count": 39,
   "metadata": {
    "execution": {
     "iopub.execute_input": "2021-02-23T18:27:04.088978Z",
     "iopub.status.busy": "2021-02-23T18:27:04.087072Z",
     "iopub.status.idle": "2021-02-23T18:27:04.089641Z",
     "shell.execute_reply": "2021-02-23T18:27:04.090119Z"
    },
    "papermill": {
     "duration": 0.090533,
     "end_time": "2021-02-23T18:27:04.090275",
     "exception": false,
     "start_time": "2021-02-23T18:27:03.999742",
     "status": "completed"
    },
    "tags": []
   },
   "outputs": [],
   "source": [
    "def plot_learning_curve(history,epochs):\n",
    "    \n",
    "    # plot training and validation accuracy \n",
    "    epoch_range = range(1,epochs+1)\n",
    "    plt.plot(epoch_range,history.history['accuracy'])\n",
    "    plt.plot(epoch_range,history.history['val_accuracy'])\n",
    "    plt.title('Model Accuracy')\n",
    "    plt.ylabel('accuracy')\n",
    "    plt.xlabel('epoch')\n",
    "    plt.legend(['Train','Val'],loc='upper left')\n",
    "    plt.show()\n",
    "    \n",
    "    # plot training and validation loss\n",
    "    plt.plot(epoch_range,history.history['loss'])\n",
    "    plt.plot(epoch_range,history.history['val_loss'])\n",
    "    plt.title('Model loss')\n",
    "    plt.ylabel('loss')\n",
    "    plt.xlabel('epoch')\n",
    "    plt.legend(['Train','Val'],loc='upper left')\n",
    "    plt.show()"
   ]
  },
  {
   "cell_type": "code",
   "execution_count": 25,
   "metadata": {
    "execution": {
     "iopub.execute_input": "2021-02-23T18:27:04.260272Z",
     "iopub.status.busy": "2021-02-23T18:27:04.259391Z",
     "iopub.status.idle": "2021-02-23T18:27:04.720884Z",
     "shell.execute_reply": "2021-02-23T18:27:04.722285Z"
    },
    "papermill": {
     "duration": 0.55382,
     "end_time": "2021-02-23T18:27:04.722534",
     "exception": false,
     "start_time": "2021-02-23T18:27:04.168714",
     "status": "completed"
    },
    "tags": []
   },
   "outputs": [
    {
     "data": {
      "image/png": "[encoded data removed]",
      "text/plain": [
       "<Figure size 432x288 with 1 Axes>"
      ]
     },
     "metadata": {
      "needs_background": "light"
     },
     "output_type": "display_data"
    },
    {
     "data": {
      "image/png": "[encoded data removed]",
      "text/plain": [
       "<Figure size 432x288 with 1 Axes>"
      ]
     },
     "metadata": {
      "needs_background": "light"
     },
     "output_type": "display_data"
    }
   ],
   "source": [
    "plot_learning_curve(history,epochs)"
   ]
  },
  {
   "cell_type": "markdown",
   "metadata": {
    "papermill": {
     "duration": 0.12496,
     "end_time": "2021-02-23T18:27:04.980221",
     "exception": false,
     "start_time": "2021-02-23T18:27:04.855261",
     "status": "completed"
    },
    "tags": []
   },
   "source": [
    "## Adding MaxPool\n",
    "\n",
    "#### **Pooling layers** are used to **reduce the dimensions** of the feature maps. Thus, it **reduces** the number of **parameters** to learn and the amount of **computation** performed in the network."
   ]
  },
  {
   "cell_type": "code",
   "execution_count": 31,
   "metadata": {
    "execution": {
     "iopub.execute_input": "2021-02-23T18:27:05.186631Z",
     "iopub.status.busy": "2021-02-23T18:27:05.185673Z",
     "iopub.status.idle": "2021-02-23T18:27:05.274497Z",
     "shell.execute_reply": "2021-02-23T18:27:05.273882Z"
    },
    "papermill": {
     "duration": 0.184335,
     "end_time": "2021-02-23T18:27:05.274646",
     "exception": false,
     "start_time": "2021-02-23T18:27:05.090311",
     "status": "completed"
    },
    "tags": []
   },
   "outputs": [],
   "source": [
    "# defining the hyperparameter\n",
    "epochs = 100\n",
    "model = Sequential()\n",
    "\n",
    "# FIRST LAYER\n",
    "model.add(Conv1D(64,2,activation = 'relu',input_shape = features_train[0].shape))\n",
    "model.add(BatchNormalization())\n",
    "'''Batch normalization is a technique for training very deep neural networks \n",
    "   that standardizes the inputs to a layer for each mini-batch. This \n",
    "   has the effect of stabilizing the learning process and dramatically\n",
    "   reducing the number of training epochs required to train deep networks'''\n",
    "model.add(MaxPool1D(2))\n",
    "'''Max pooling is done to in part to help over-fitting by providing an abstracted form of the\n",
    "   representation. As well, it reduces the computational cost by reducing the \n",
    "   number of parameters to learn and provides basic translation invariance to \n",
    "   the internal representation.'''\n",
    "model.add(Dropout(0.2)) # prevents over-fitting (randomly remove some neurons)\n",
    "\n",
    "# SECOND LAYER\n",
    "model.add(Conv1D(128,2,activation = 'relu'))\n",
    "model.add(BatchNormalization())\n",
    "model.add(MaxPool1D(2))\n",
    "model.add(Dropout(0.5))\n",
    "\n",
    "# Flattening the layer ( multidimentional data into vector)\n",
    "model.add(Flatten())\n",
    "model.add(Dense(128,activation = 'relu'))\n",
    "model.add(Dropout(0.5))\n",
    "\n",
    "# FINAL LAYER\n",
    "model.add(Dense(1,activation='sigmoid')) # binary classification "
   ]
  },
  {
   "cell_type": "code",
   "execution_count": 27,
   "metadata": {
    "execution": {
     "iopub.execute_input": "2021-02-23T18:27:05.454006Z",
     "iopub.status.busy": "2021-02-23T18:27:05.450477Z",
     "iopub.status.idle": "2021-02-23T18:27:05.458978Z",
     "shell.execute_reply": "2021-02-23T18:27:05.458247Z"
    },
    "papermill": {
     "duration": 0.097033,
     "end_time": "2021-02-23T18:27:05.459163",
     "exception": false,
     "start_time": "2021-02-23T18:27:05.362130",
     "status": "completed"
    },
    "tags": []
   },
   "outputs": [
    {
     "name": "stdout",
     "output_type": "stream",
     "text": [
      "Model: \"sequential_1\"\n",
      "_________________________________________________________________\n",
      "Layer (type)                 Output Shape              Param #   \n",
      "=================================================================\n",
      "conv1d_2 (Conv1D)            (None, 29, 64)            192       \n",
      "_________________________________________________________________\n",
      "batch_normalization_2 (Batch (None, 29, 64)            256       \n",
      "_________________________________________________________________\n",
      "max_pooling1d (MaxPooling1D) (None, 14, 64)            0         \n",
      "_________________________________________________________________\n",
      "dropout_3 (Dropout)          (None, 14, 64)            0         \n",
      "_________________________________________________________________\n",
      "conv1d_3 (Conv1D)            (None, 13, 128)           16512     \n",
      "_________________________________________________________________\n",
      "batch_normalization_3 (Batch (None, 13, 128)           512       \n",
      "_________________________________________________________________\n",
      "max_pooling1d_1 (MaxPooling1 (None, 6, 128)            0         \n",
      "_________________________________________________________________\n",
      "dropout_4 (Dropout)          (None, 6, 128)            0         \n",
      "_________________________________________________________________\n",
      "flatten_1 (Flatten)          (None, 768)               0         \n",
      "_________________________________________________________________\n",
      "dense_2 (Dense)              (None, 128)               98432     \n",
      "_________________________________________________________________\n",
      "dropout_5 (Dropout)          (None, 128)               0         \n",
      "_________________________________________________________________\n",
      "dense_3 (Dense)              (None, 1)                 129       \n",
      "=================================================================\n",
      "Total params: 116,033\n",
      "Trainable params: 115,649\n",
      "Non-trainable params: 384\n",
      "_________________________________________________________________\n"
     ]
    }
   ],
   "source": [
    "model.summary()"
   ]
  },
  {
   "cell_type": "code",
   "execution_count": 34,
   "metadata": {
    "execution": {
     "iopub.execute_input": "2021-02-23T18:27:05.631169Z",
     "iopub.status.busy": "2021-02-23T18:27:05.630307Z",
     "iopub.status.idle": "2021-02-23T18:27:23.845300Z",
     "shell.execute_reply": "2021-02-23T18:27:23.845842Z"
    },
    "papermill": {
     "duration": 18.305159,
     "end_time": "2021-02-23T18:27:23.846023",
     "exception": false,
     "start_time": "2021-02-23T18:27:05.540864",
     "status": "completed"
    },
    "tags": []
   },
   "outputs": [
    {
     "name": "stdout",
     "output_type": "stream",
     "text": [
      "Epoch 1/100\n",
      "24/24 [==============================] - 2s 14ms/step - loss: 0.0466 - accuracy: 0.9797 - val_loss: 0.1877 - val_accuracy: 0.9472\n",
      "Epoch 2/100\n",
      "24/24 [==============================] - 0s 7ms/step - loss: 0.0331 - accuracy: 0.9878 - val_loss: 0.1886 - val_accuracy: 0.9431\n",
      "Epoch 3/100\n",
      "24/24 [==============================] - 0s 7ms/step - loss: 0.0568 - accuracy: 0.9756 - val_loss: 0.1905 - val_accuracy: 0.9431\n",
      "Epoch 4/100\n",
      "24/24 [==============================] - 0s 7ms/step - loss: 0.0371 - accuracy: 0.9892 - val_loss: 0.1912 - val_accuracy: 0.9431\n",
      "Epoch 5/100\n",
      "24/24 [==============================] - 0s 7ms/step - loss: 0.0346 - accuracy: 0.9905 - val_loss: 0.1891 - val_accuracy: 0.9431\n",
      "Epoch 6/100\n",
      "24/24 [==============================] - 0s 7ms/step - loss: 0.0422 - accuracy: 0.9837 - val_loss: 0.1885 - val_accuracy: 0.9431\n",
      "Epoch 7/100\n",
      "24/24 [==============================] - 0s 7ms/step - loss: 0.0403 - accuracy: 0.9824 - val_loss: 0.1903 - val_accuracy: 0.9431\n",
      "Epoch 8/100\n",
      "24/24 [==============================] - 0s 7ms/step - loss: 0.0268 - accuracy: 0.9905 - val_loss: 0.1925 - val_accuracy: 0.9431\n",
      "Epoch 9/100\n",
      "24/24 [==============================] - 0s 7ms/step - loss: 0.0279 - accuracy: 0.9905 - val_loss: 0.1946 - val_accuracy: 0.9431\n",
      "Epoch 10/100\n",
      "24/24 [==============================] - 0s 7ms/step - loss: 0.0402 - accuracy: 0.9892 - val_loss: 0.1905 - val_accuracy: 0.9431\n",
      "Epoch 11/100\n",
      "24/24 [==============================] - 0s 7ms/step - loss: 0.0332 - accuracy: 0.9878 - val_loss: 0.1918 - val_accuracy: 0.9390\n",
      "Epoch 12/100\n",
      "24/24 [==============================] - 0s 7ms/step - loss: 0.0434 - accuracy: 0.9878 - val_loss: 0.1924 - val_accuracy: 0.9431\n",
      "Epoch 13/100\n",
      "24/24 [==============================] - 0s 7ms/step - loss: 0.0248 - accuracy: 0.9946 - val_loss: 0.1961 - val_accuracy: 0.9431\n",
      "Epoch 14/100\n",
      "24/24 [==============================] - 0s 7ms/step - loss: 0.0388 - accuracy: 0.9824 - val_loss: 0.1962 - val_accuracy: 0.9431\n",
      "Epoch 15/100\n",
      "24/24 [==============================] - 0s 7ms/step - loss: 0.0437 - accuracy: 0.9892 - val_loss: 0.1951 - val_accuracy: 0.9431\n",
      "Epoch 16/100\n",
      "24/24 [==============================] - 0s 7ms/step - loss: 0.0446 - accuracy: 0.9783 - val_loss: 0.1907 - val_accuracy: 0.9390\n",
      "Epoch 17/100\n",
      "24/24 [==============================] - 0s 7ms/step - loss: 0.0453 - accuracy: 0.9810 - val_loss: 0.1908 - val_accuracy: 0.9390\n",
      "Epoch 18/100\n",
      "24/24 [==============================] - 0s 7ms/step - loss: 0.0450 - accuracy: 0.9851 - val_loss: 0.1889 - val_accuracy: 0.9390\n",
      "Epoch 19/100\n",
      "24/24 [==============================] - 0s 7ms/step - loss: 0.0304 - accuracy: 0.9864 - val_loss: 0.1893 - val_accuracy: 0.9390\n",
      "Epoch 20/100\n",
      "24/24 [==============================] - 0s 7ms/step - loss: 0.0441 - accuracy: 0.9824 - val_loss: 0.1895 - val_accuracy: 0.9390\n",
      "Epoch 21/100\n",
      "24/24 [==============================] - 0s 7ms/step - loss: 0.0331 - accuracy: 0.9892 - val_loss: 0.1909 - val_accuracy: 0.9390\n",
      "Epoch 22/100\n",
      "24/24 [==============================] - 0s 7ms/step - loss: 0.0345 - accuracy: 0.9878 - val_loss: 0.1941 - val_accuracy: 0.9390\n",
      "Epoch 23/100\n",
      "24/24 [==============================] - 0s 7ms/step - loss: 0.0373 - accuracy: 0.9864 - val_loss: 0.1951 - val_accuracy: 0.9390\n",
      "Epoch 24/100\n",
      "24/24 [==============================] - 0s 7ms/step - loss: 0.0378 - accuracy: 0.9851 - val_loss: 0.1953 - val_accuracy: 0.9350\n",
      "Epoch 25/100\n",
      "24/24 [==============================] - 0s 7ms/step - loss: 0.0591 - accuracy: 0.9770 - val_loss: 0.1981 - val_accuracy: 0.9390\n",
      "Epoch 26/100\n",
      "24/24 [==============================] - 0s 7ms/step - loss: 0.0420 - accuracy: 0.9797 - val_loss: 0.1963 - val_accuracy: 0.9390\n",
      "Epoch 27/100\n",
      "24/24 [==============================] - 0s 7ms/step - loss: 0.0308 - accuracy: 0.9905 - val_loss: 0.1965 - val_accuracy: 0.9350\n",
      "Epoch 28/100\n",
      "24/24 [==============================] - 0s 7ms/step - loss: 0.0476 - accuracy: 0.9851 - val_loss: 0.1951 - val_accuracy: 0.9350\n",
      "Epoch 29/100\n",
      "24/24 [==============================] - 0s 7ms/step - loss: 0.0394 - accuracy: 0.9864 - val_loss: 0.1943 - val_accuracy: 0.9350\n",
      "Epoch 30/100\n",
      "24/24 [==============================] - 0s 7ms/step - loss: 0.0494 - accuracy: 0.9837 - val_loss: 0.1945 - val_accuracy: 0.9350\n",
      "Epoch 31/100\n",
      "24/24 [==============================] - 0s 7ms/step - loss: 0.0338 - accuracy: 0.9851 - val_loss: 0.1956 - val_accuracy: 0.9350\n",
      "Epoch 32/100\n",
      "24/24 [==============================] - 0s 7ms/step - loss: 0.0325 - accuracy: 0.9892 - val_loss: 0.1963 - val_accuracy: 0.9350\n",
      "Epoch 33/100\n",
      "24/24 [==============================] - 0s 7ms/step - loss: 0.0464 - accuracy: 0.9810 - val_loss: 0.1934 - val_accuracy: 0.9350\n",
      "Epoch 34/100\n",
      "24/24 [==============================] - 0s 7ms/step - loss: 0.0362 - accuracy: 0.9919 - val_loss: 0.1929 - val_accuracy: 0.9309\n",
      "Epoch 35/100\n",
      "24/24 [==============================] - 0s 7ms/step - loss: 0.0387 - accuracy: 0.9851 - val_loss: 0.1940 - val_accuracy: 0.9309\n",
      "Epoch 36/100\n",
      "24/24 [==============================] - 0s 7ms/step - loss: 0.0214 - accuracy: 0.9932 - val_loss: 0.1985 - val_accuracy: 0.9350\n",
      "Epoch 37/100\n",
      "24/24 [==============================] - 0s 7ms/step - loss: 0.0384 - accuracy: 0.9878 - val_loss: 0.1993 - val_accuracy: 0.9309\n",
      "Epoch 38/100\n",
      "24/24 [==============================] - 0s 7ms/step - loss: 0.0312 - accuracy: 0.9892 - val_loss: 0.2026 - val_accuracy: 0.9390\n",
      "Epoch 39/100\n",
      "24/24 [==============================] - 0s 7ms/step - loss: 0.0280 - accuracy: 0.9864 - val_loss: 0.2030 - val_accuracy: 0.9390\n",
      "Epoch 40/100\n",
      "24/24 [==============================] - 0s 7ms/step - loss: 0.0451 - accuracy: 0.9864 - val_loss: 0.1997 - val_accuracy: 0.9390\n",
      "Epoch 41/100\n",
      "24/24 [==============================] - 0s 7ms/step - loss: 0.0403 - accuracy: 0.9837 - val_loss: 0.1985 - val_accuracy: 0.9309\n",
      "Epoch 42/100\n",
      "24/24 [==============================] - 0s 7ms/step - loss: 0.0332 - accuracy: 0.9864 - val_loss: 0.1965 - val_accuracy: 0.9350\n",
      "Epoch 43/100\n",
      "24/24 [==============================] - 0s 7ms/step - loss: 0.0395 - accuracy: 0.9851 - val_loss: 0.1961 - val_accuracy: 0.9350\n",
      "Epoch 44/100\n",
      "24/24 [==============================] - 0s 7ms/step - loss: 0.0453 - accuracy: 0.9810 - val_loss: 0.1910 - val_accuracy: 0.9350\n",
      "Epoch 45/100\n",
      "24/24 [==============================] - 0s 7ms/step - loss: 0.0218 - accuracy: 0.9946 - val_loss: 0.1940 - val_accuracy: 0.9309\n",
      "Epoch 46/100\n",
      "24/24 [==============================] - 0s 7ms/step - loss: 0.0282 - accuracy: 0.9878 - val_loss: 0.1958 - val_accuracy: 0.9350\n",
      "Epoch 47/100\n",
      "24/24 [==============================] - 0s 7ms/step - loss: 0.0264 - accuracy: 0.9905 - val_loss: 0.1965 - val_accuracy: 0.9350\n",
      "Epoch 48/100\n",
      "24/24 [==============================] - 0s 7ms/step - loss: 0.0398 - accuracy: 0.9837 - val_loss: 0.1982 - val_accuracy: 0.9350\n",
      "Epoch 49/100\n",
      "24/24 [==============================] - 0s 7ms/step - loss: 0.0260 - accuracy: 0.9905 - val_loss: 0.1992 - val_accuracy: 0.9390\n",
      "Epoch 50/100\n",
      "24/24 [==============================] - 0s 7ms/step - loss: 0.0285 - accuracy: 0.9892 - val_loss: 0.2009 - val_accuracy: 0.9390\n",
      "Epoch 51/100\n",
      "24/24 [==============================] - 0s 7ms/step - loss: 0.0254 - accuracy: 0.9892 - val_loss: 0.2017 - val_accuracy: 0.9390\n",
      "Epoch 52/100\n",
      "24/24 [==============================] - 0s 7ms/step - loss: 0.0316 - accuracy: 0.9905 - val_loss: 0.1983 - val_accuracy: 0.9390\n",
      "Epoch 53/100\n",
      "24/24 [==============================] - 0s 7ms/step - loss: 0.0393 - accuracy: 0.9878 - val_loss: 0.1963 - val_accuracy: 0.9350\n",
      "Epoch 54/100\n",
      "24/24 [==============================] - 0s 7ms/step - loss: 0.0536 - accuracy: 0.9864 - val_loss: 0.1937 - val_accuracy: 0.9350\n",
      "Epoch 55/100\n",
      "24/24 [==============================] - 0s 7ms/step - loss: 0.0323 - accuracy: 0.9878 - val_loss: 0.1927 - val_accuracy: 0.9350\n",
      "Epoch 56/100\n",
      "24/24 [==============================] - 0s 7ms/step - loss: 0.0461 - accuracy: 0.9851 - val_loss: 0.1917 - val_accuracy: 0.9350\n",
      "Epoch 57/100\n",
      "24/24 [==============================] - 0s 7ms/step - loss: 0.0312 - accuracy: 0.9892 - val_loss: 0.1852 - val_accuracy: 0.9309\n",
      "Epoch 58/100\n",
      "24/24 [==============================] - 0s 7ms/step - loss: 0.0379 - accuracy: 0.9878 - val_loss: 0.1897 - val_accuracy: 0.9309\n",
      "Epoch 59/100\n",
      "24/24 [==============================] - 0s 7ms/step - loss: 0.0239 - accuracy: 0.9919 - val_loss: 0.1884 - val_accuracy: 0.9268\n",
      "Epoch 60/100\n",
      "24/24 [==============================] - 0s 7ms/step - loss: 0.0400 - accuracy: 0.9810 - val_loss: 0.1853 - val_accuracy: 0.9268\n",
      "Epoch 61/100\n",
      "24/24 [==============================] - 0s 7ms/step - loss: 0.0308 - accuracy: 0.9864 - val_loss: 0.1874 - val_accuracy: 0.9268\n",
      "Epoch 62/100\n",
      "24/24 [==============================] - 0s 7ms/step - loss: 0.0368 - accuracy: 0.9837 - val_loss: 0.1885 - val_accuracy: 0.9309\n",
      "Epoch 63/100\n",
      "24/24 [==============================] - 0s 7ms/step - loss: 0.0364 - accuracy: 0.9851 - val_loss: 0.1906 - val_accuracy: 0.9350\n",
      "Epoch 64/100\n",
      "24/24 [==============================] - 0s 7ms/step - loss: 0.0327 - accuracy: 0.9919 - val_loss: 0.1916 - val_accuracy: 0.9350\n",
      "Epoch 65/100\n",
      "24/24 [==============================] - 0s 7ms/step - loss: 0.0352 - accuracy: 0.9851 - val_loss: 0.1941 - val_accuracy: 0.9350\n",
      "Epoch 66/100\n",
      "24/24 [==============================] - 0s 7ms/step - loss: 0.0242 - accuracy: 0.9905 - val_loss: 0.1930 - val_accuracy: 0.9350\n",
      "Epoch 67/100\n",
      "24/24 [==============================] - 0s 7ms/step - loss: 0.0275 - accuracy: 0.9905 - val_loss: 0.1936 - val_accuracy: 0.9350\n",
      "Epoch 68/100\n",
      "24/24 [==============================] - 0s 6ms/step - loss: 0.0269 - accuracy: 0.9946 - val_loss: 0.1942 - val_accuracy: 0.9350\n",
      "Epoch 69/100\n",
      "24/24 [==============================] - 0s 7ms/step - loss: 0.0377 - accuracy: 0.9864 - val_loss: 0.1951 - val_accuracy: 0.9350\n",
      "Epoch 70/100\n",
      "24/24 [==============================] - 0s 7ms/step - loss: 0.0250 - accuracy: 0.9959 - val_loss: 0.1988 - val_accuracy: 0.9390\n",
      "Epoch 71/100\n",
      "24/24 [==============================] - 0s 7ms/step - loss: 0.0363 - accuracy: 0.9810 - val_loss: 0.2021 - val_accuracy: 0.9390\n",
      "Epoch 72/100\n",
      "24/24 [==============================] - 0s 7ms/step - loss: 0.0226 - accuracy: 0.9932 - val_loss: 0.2020 - val_accuracy: 0.9390\n",
      "Epoch 73/100\n",
      "24/24 [==============================] - 0s 7ms/step - loss: 0.0357 - accuracy: 0.9878 - val_loss: 0.2022 - val_accuracy: 0.9390\n",
      "Epoch 74/100\n",
      "24/24 [==============================] - 0s 7ms/step - loss: 0.0318 - accuracy: 0.9878 - val_loss: 0.1978 - val_accuracy: 0.9390\n",
      "Epoch 75/100\n",
      "24/24 [==============================] - 0s 7ms/step - loss: 0.0358 - accuracy: 0.9919 - val_loss: 0.1965 - val_accuracy: 0.9350\n",
      "Epoch 76/100\n",
      "24/24 [==============================] - 0s 7ms/step - loss: 0.0305 - accuracy: 0.9878 - val_loss: 0.1975 - val_accuracy: 0.9350\n",
      "Epoch 77/100\n",
      "24/24 [==============================] - 0s 7ms/step - loss: 0.0362 - accuracy: 0.9892 - val_loss: 0.1973 - val_accuracy: 0.9350\n",
      "Epoch 78/100\n",
      "24/24 [==============================] - 0s 7ms/step - loss: 0.0275 - accuracy: 0.9932 - val_loss: 0.1987 - val_accuracy: 0.9350\n",
      "Epoch 79/100\n",
      "24/24 [==============================] - 0s 7ms/step - loss: 0.0234 - accuracy: 0.9919 - val_loss: 0.1970 - val_accuracy: 0.9350\n",
      "Epoch 80/100\n",
      "24/24 [==============================] - 0s 7ms/step - loss: 0.0310 - accuracy: 0.9905 - val_loss: 0.1972 - val_accuracy: 0.9350\n",
      "Epoch 81/100\n",
      "24/24 [==============================] - 0s 7ms/step - loss: 0.0361 - accuracy: 0.9878 - val_loss: 0.1973 - val_accuracy: 0.9350\n",
      "Epoch 82/100\n",
      "24/24 [==============================] - 0s 7ms/step - loss: 0.0356 - accuracy: 0.9878 - val_loss: 0.1962 - val_accuracy: 0.9350\n",
      "Epoch 83/100\n",
      "24/24 [==============================] - 0s 7ms/step - loss: 0.0292 - accuracy: 0.9905 - val_loss: 0.1995 - val_accuracy: 0.9350\n",
      "Epoch 84/100\n",
      "24/24 [==============================] - 0s 7ms/step - loss: 0.0278 - accuracy: 0.9919 - val_loss: 0.2020 - val_accuracy: 0.9350\n",
      "Epoch 85/100\n",
      "24/24 [==============================] - 0s 7ms/step - loss: 0.0274 - accuracy: 0.9878 - val_loss: 0.2050 - val_accuracy: 0.9350\n",
      "Epoch 86/100\n",
      "24/24 [==============================] - 0s 7ms/step - loss: 0.0305 - accuracy: 0.9864 - val_loss: 0.2065 - val_accuracy: 0.9350\n",
      "Epoch 87/100\n",
      "24/24 [==============================] - 0s 7ms/step - loss: 0.0277 - accuracy: 0.9905 - val_loss: 0.2029 - val_accuracy: 0.9350\n",
      "Epoch 88/100\n",
      "24/24 [==============================] - 0s 7ms/step - loss: 0.0311 - accuracy: 0.9878 - val_loss: 0.2013 - val_accuracy: 0.9309\n",
      "Epoch 89/100\n",
      "24/24 [==============================] - 0s 7ms/step - loss: 0.0332 - accuracy: 0.9851 - val_loss: 0.2017 - val_accuracy: 0.9309\n",
      "Epoch 90/100\n",
      "24/24 [==============================] - 0s 7ms/step - loss: 0.0265 - accuracy: 0.9905 - val_loss: 0.2023 - val_accuracy: 0.9309\n",
      "Epoch 91/100\n",
      "24/24 [==============================] - 0s 7ms/step - loss: 0.0330 - accuracy: 0.9905 - val_loss: 0.2063 - val_accuracy: 0.9350\n",
      "Epoch 92/100\n",
      "24/24 [==============================] - 0s 7ms/step - loss: 0.0330 - accuracy: 0.9892 - val_loss: 0.2063 - val_accuracy: 0.9350\n",
      "Epoch 93/100\n",
      "24/24 [==============================] - 0s 7ms/step - loss: 0.0334 - accuracy: 0.9878 - val_loss: 0.2044 - val_accuracy: 0.9350\n",
      "Epoch 94/100\n",
      "24/24 [==============================] - 0s 7ms/step - loss: 0.0168 - accuracy: 0.9959 - val_loss: 0.2035 - val_accuracy: 0.9309\n",
      "Epoch 95/100\n",
      "24/24 [==============================] - 0s 7ms/step - loss: 0.0325 - accuracy: 0.9932 - val_loss: 0.2048 - val_accuracy: 0.9309\n",
      "Epoch 96/100\n",
      "24/24 [==============================] - 0s 7ms/step - loss: 0.0290 - accuracy: 0.9864 - val_loss: 0.2046 - val_accuracy: 0.9350\n",
      "Epoch 97/100\n",
      "24/24 [==============================] - 0s 7ms/step - loss: 0.0411 - accuracy: 0.9824 - val_loss: 0.2052 - val_accuracy: 0.9350\n",
      "Epoch 98/100\n",
      "24/24 [==============================] - 0s 7ms/step - loss: 0.0352 - accuracy: 0.9864 - val_loss: 0.2060 - val_accuracy: 0.9350\n",
      "Epoch 99/100\n",
      "24/24 [==============================] - 0s 7ms/step - loss: 0.0268 - accuracy: 0.9919 - val_loss: 0.2053 - val_accuracy: 0.9350\n",
      "Epoch 100/100\n",
      "24/24 [==============================] - 0s 7ms/step - loss: 0.0290 - accuracy: 0.9905 - val_loss: 0.2068 - val_accuracy: 0.9350\n"
     ]
    }
   ],
   "source": [
    "# optimizing the model \n",
    "model.compile(optimizer = Adam(learning_rate=0.0001),loss = 'binary_crossentropy',metrics=['accuracy'])\n",
    "\n",
    "# Training the model, Calculating the accuracy \n",
    "history = model.fit(features_train, labels_train, epochs = epochs,\n",
    "                    validation_data = (features_test,labels_test),verbose = 1)"
   ]
  },
  {
   "cell_type": "code",
   "execution_count": 35,
   "metadata": {
    "execution": {
     "iopub.execute_input": "2021-02-23T18:27:24.274110Z",
     "iopub.status.busy": "2021-02-23T18:27:24.273016Z",
     "iopub.status.idle": "2021-02-23T18:27:24.607718Z",
     "shell.execute_reply": "2021-02-23T18:27:24.608292Z"
    },
    "papermill": {
     "duration": 0.562125,
     "end_time": "2021-02-23T18:27:24.608495",
     "exception": false,
     "start_time": "2021-02-23T18:27:24.046370",
     "status": "completed"
    },
    "tags": []
   },
   "outputs": [
    {
     "data": {
      "image/png": "[encoded data removed]",
      "text/plain": [
       "<Figure size 432x288 with 1 Axes>"
      ]
     },
     "metadata": {
      "needs_background": "light"
     },
     "output_type": "display_data"
    },
    {
     "data": {
      "image/png": "[encoded data removed]",
      "text/plain": [
       "<Figure size 432x288 with 1 Axes>"
      ]
     },
     "metadata": {
      "needs_background": "light"
     },
     "output_type": "display_data"
    }
   ],
   "source": [
    "# plotting learning curve (MAX POOL)\n",
    "plot_learning_curve(history,epochs)"
   ]
  },
  {
   "cell_type": "markdown",
   "metadata": {
    "papermill": {
     "duration": 0.19849,
     "end_time": "2021-02-23T18:27:25.022626",
     "exception": false,
     "start_time": "2021-02-23T18:27:24.824136",
     "status": "completed"
    },
    "tags": []
   },
   "source": [
    "## Predicting"
   ]
  },
  {
   "cell_type": "code",
   "execution_count": 36,
   "metadata": {
    "execution": {
     "iopub.execute_input": "2021-02-23T18:27:25.432021Z",
     "iopub.status.busy": "2021-02-23T18:27:25.431121Z",
     "iopub.status.idle": "2021-02-23T18:27:25.526029Z",
     "shell.execute_reply": "2021-02-23T18:27:25.525077Z"
    },
    "papermill": {
     "duration": 0.301509,
     "end_time": "2021-02-23T18:27:25.526169",
     "exception": false,
     "start_time": "2021-02-23T18:27:25.224660",
     "status": "completed"
    },
    "tags": []
   },
   "outputs": [
    {
     "name": "stdout",
     "output_type": "stream",
     "text": [
      "24/24 [==============================] - 0s 2ms/step - loss: 0.0061 - accuracy: 1.0000\n"
     ]
    },
    {
     "data": {
      "text/plain": [
       "[0.006120568141341209, 1.0]"
      ]
     },
     "execution_count": 36,
     "metadata": {},
     "output_type": "execute_result"
    }
   ],
   "source": [
    "final_acc = model.evaluate(features_train,labels_train)\n",
    "final_acc"
   ]
  },
  {
   "cell_type": "code",
   "execution_count": 37,
   "metadata": {
    "execution": {
     "iopub.execute_input": "2021-02-23T18:27:25.937364Z",
     "iopub.status.busy": "2021-02-23T18:27:25.936483Z",
     "iopub.status.idle": "2021-02-23T18:27:26.107590Z",
     "shell.execute_reply": "2021-02-23T18:27:26.106013Z"
    },
    "papermill": {
     "duration": 0.380513,
     "end_time": "2021-02-23T18:27:26.107789",
     "exception": false,
     "start_time": "2021-02-23T18:27:25.727276",
     "status": "completed"
    },
    "tags": []
   },
   "outputs": [
    {
     "name": "stdout",
     "output_type": "stream",
     "text": [
      "8/8 [==============================] - 0s 2ms/step\n"
     ]
    }
   ],
   "source": [
    "pred = model.predict(features_test)\n",
    "pred_label = pred.argmax(axis=1)"
   ]
  },
  {
   "cell_type": "code",
   "execution_count": 38,
   "metadata": {
    "execution": {
     "iopub.execute_input": "2021-02-23T18:27:26.610032Z",
     "iopub.status.busy": "2021-02-23T18:27:26.604688Z",
     "iopub.status.idle": "2021-02-23T18:27:26.616908Z",
     "shell.execute_reply": "2021-02-23T18:27:26.617698Z"
    },
    "papermill": {
     "duration": 0.301653,
     "end_time": "2021-02-23T18:27:26.617901",
     "exception": false,
     "start_time": "2021-02-23T18:27:26.316248",
     "status": "completed"
    },
    "tags": []
   },
   "outputs": [
    {
     "data": {
      "text/plain": [
       "array([[118,   5],\n",
       "       [ 11, 112]], dtype=int64)"
      ]
     },
     "execution_count": 38,
     "metadata": {},
     "output_type": "execute_result"
    }
   ],
   "source": [
    "cm =confusion_matrix(labels_test,pred.round())\n",
    "cm"
   ]
  },
  {
   "cell_type": "code",
   "execution_count": 40,
   "metadata": {},
   "outputs": [
    {
     "name": "stdout",
     "output_type": "stream",
     "text": [
      "24/24 [==============================] - 0s 2ms/step - loss: 0.0061 - accuracy: 1.0000\n",
      "Accuracy: 1.00\n",
      "8/8 [==============================] - 0s 2ms/step\n",
      "Classification report:\n",
      "              precision    recall  f1-score   support\n",
      "\n",
      "           0       0.91      0.96      0.94       123\n",
      "           1       0.96      0.91      0.93       123\n",
      "\n",
      "    accuracy                           0.93       246\n",
      "   macro avg       0.94      0.93      0.93       246\n",
      "weighted avg       0.94      0.93      0.93       246\n",
      "\n",
      "Confusion Matrix:\n",
      "[[118   5]\n",
      " [ 11 112]]\n",
      "True Positives (TP): 112\n",
      "True Negatives (TN): 118\n",
      "False Positives (FP): 5\n",
      "False Negatives (FN): 11\n"
     ]
    }
   ],
   "source": [
    "from sklearn.metrics import confusion_matrix, classification_report\n",
    "\n",
    "# Assuming you have already defined and compiled your 'model'\n",
    "\n",
    "# Calculate and print accuracy\n",
    "final_acc = model.evaluate(features_train, labels_train)\n",
    "print(f\"Accuracy: {final_acc[1]:.2f}\")\n",
    "\n",
    "# Predict labels for the test set\n",
    "pred = model.predict(features_test)\n",
    "pred_label = (pred > 0.5).astype(int)  # Convert probabilities to binary labels\n",
    "\n",
    "# Calculate and print classification report (includes precision, recall, and F1 score)\n",
    "report = classification_report(labels_test, pred_label)\n",
    "print(f\"Classification report:\\n{report}\")\n",
    "\n",
    "# Calculate and print confusion matrix\n",
    "cm = confusion_matrix(labels_test, pred_label)\n",
    "print(\"Confusion Matrix:\")\n",
    "print(cm)\n",
    "\n",
    "# Extract TP, TN, FP, FN values from the confusion matrix\n",
    "tn, fp, fn, tp = cm.ravel()\n",
    "print(f\"True Positives (TP): {tp}\")\n",
    "print(f\"True Negatives (TN): {tn}\")\n",
    "print(f\"False Positives (FP): {fp}\")\n",
    "print(f\"False Negatives (FN): {fn}\")\n"
   ]
  },
  {
   "cell_type": "code",
   "execution_count": 41,
   "metadata": {},
   "outputs": [
    {
     "name": "stdout",
     "output_type": "stream",
     "text": [
      "24/24 [==============================] - 0s 4ms/step - loss: 0.0061 - accuracy: 1.0000\n",
      "Accuracy: 1.00\n",
      "8/8 [==============================] - 0s 3ms/step\n",
      "Classification report:\n",
      "              precision    recall  f1-score   support\n",
      "\n",
      "      Normal       0.91      0.96      0.94       123\n",
      "       Fraud       0.96      0.91      0.93       123\n",
      "\n",
      "    accuracy                           0.93       246\n",
      "   macro avg       0.94      0.93      0.93       246\n",
      "weighted avg       0.94      0.93      0.93       246\n",
      "\n",
      "Precision: 0.91\n",
      "Recall: 0.96\n",
      "F1 Score: 0.94\n"
     ]
    }
   ],
   "source": [
    "from sklearn.metrics import confusion_matrix, classification_report\n",
    "\n",
    "# Assuming you have already defined and compiled your 'model'\n",
    "\n",
    "# Calculate and print accuracy\n",
    "final_acc = model.evaluate(features_train, labels_train)\n",
    "print(f\"Accuracy: {final_acc[1]:.2f}\")\n",
    "\n",
    "# Predict labels for the test set\n",
    "pred = model.predict(features_test)\n",
    "pred_label = (pred > 0.5).astype(int)  # Convert probabilities to binary labels\n",
    "\n",
    "# Calculate and print classification report (includes precision, recall, and F1 score)\n",
    "report = classification_report(labels_test, pred_label, target_names=['Normal', 'Fraud'])\n",
    "print(f\"Classification report:\\n{report}\")\n",
    "\n",
    "# Extracting precision, recall, and F1 score from the classification report\n",
    "precision, recall, f1, _ = report.split('\\n')[2].split()[1:]\n",
    "print(f\"Precision: {precision}\")\n",
    "print(f\"Recall: {recall}\")\n",
    "print(f\"F1 Score: {f1}\")\n"
   ]
  },
  {
   "cell_type": "code",
   "execution_count": 42,
   "metadata": {},
   "outputs": [
    {
     "name": "stdout",
     "output_type": "stream",
     "text": [
      "24/24 [==============================] - 0s 2ms/step - loss: 0.0061 - accuracy: 1.0000\n",
      "Accuracy: 1.00\n",
      "8/8 [==============================] - 0s 2ms/step\n",
      "Classification report:\n",
      "              precision    recall  f1-score   support\n",
      "\n",
      "      Normal       0.91      0.96      0.94       123\n",
      "       Fraud       0.96      0.91      0.93       123\n",
      "\n",
      "    accuracy                           0.93       246\n",
      "   macro avg       0.94      0.93      0.93       246\n",
      "weighted avg       0.94      0.93      0.93       246\n",
      "\n",
      "Precision: 0.91\n",
      "Recall: 0.96\n",
      "F1 Score: 0.94\n"
     ]
    }
   ],
   "source": [
    "from sklearn.metrics import confusion_matrix, classification_report, accuracy_score\n",
    "\n",
    "# Assuming you have already defined and compiled your 'model'\n",
    "\n",
    "# Calculate and print accuracy\n",
    "final_acc = model.evaluate(features_train, labels_train)\n",
    "print(f\"Accuracy: {final_acc[1]:.2f}\")\n",
    "\n",
    "# Predict labels for the test set\n",
    "pred = model.predict(features_test)\n",
    "pred_label = (pred > 0.5).astype(int)  # Convert probabilities to binary labels\n",
    "\n",
    "# Calculate and print classification report (includes precision, recall, and F1 score)\n",
    "report = classification_report(labels_test, pred_label, target_names=['Normal', 'Fraud'])\n",
    "print(f\"Classification report:\\n{report}\")\n",
    "\n",
    "# Extracting precision, recall, and F1 score from the classification report\n",
    "precision, recall, f1, _ = report.split('\\n')[2].split()[1:]\n",
    "print(f\"Precision: {precision}\")\n",
    "print(f\"Recall: {recall}\")\n",
    "print(f\"F1 Score: {f1}\")\n"
   ]
  },
  {
   "cell_type": "code",
   "execution_count": null,
   "metadata": {},
   "outputs": [],
   "source": []
  }
 ],
 "metadata": {
  "kernelspec": {
   "display_name": "Python 3",
   "language": "python",
   "name": "python3"
  },
  "language_info": {
   "codemirror_mode": {
    "name": "ipython",
    "version": 3
   },
   "file_extension": ".py",
   "mimetype": "text/x-python",
   "name": "python",
   "nbconvert_exporter": "python",
   "pygments_lexer": "ipython3",
   "version": "3.7.6"
  },
  "papermill": {
   "default_parameters": {},
   "duration": 56.768297,
   "end_time": "2021-02-23T18:27:29.714276",
   "environment_variables": {},
   "exception": null,
   "input_path": "__notebook__.ipynb",
   "output_path": "__notebook__.ipynb",
   "parameters": {},
   "start_time": "2021-02-23T18:26:32.945979",
   "version": "2.2.2"
  }
 },
 "nbformat": 4,
 "nbformat_minor": 4
}
